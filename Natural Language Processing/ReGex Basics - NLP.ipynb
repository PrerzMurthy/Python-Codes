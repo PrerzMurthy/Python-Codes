{
 "cells": [
  {
   "cell_type": "markdown",
   "metadata": {},
   "source": [
    "<font size=\"6\"><font face=\"Bookman Old Style\"><b><center>Question 1</center></b><br>\n",
    "<font size=\"5\"><b>Develop python code as follows:</b><br>\n",
    "<font size=\"3\">a. User-defined function to read a text given by the user. This function should\n",
    "return the text to the function call.<br>\n",
    "b. User-defined function that reads a word given by the user. This function\n",
    "should return the word to the function call.<br>\n",
    "c. Pass the text and word to a user-defined function that searches the word in\n",
    "the text and returns the position where the word is found in the text or ‘None’\n",
    "otherwise to the function call.NOTE: Use regex functions.<br>\n",
    "d. If the return parameter is a number:<br>\n",
    "• Then print: The word ‘{user_given_word}’ is FOUND in the text\n",
    "‘{user_given_text} at position {position}.’<br>\n",
    "• Else print: The word ‘{user_given_word}’ is NOT FOUND in the text\n",
    "    ‘{user_given_text}.’</font>"
   ]
  },
  {
   "cell_type": "code",
   "execution_count": 4,
   "metadata": {},
   "outputs": [
    {
     "name": "stdout",
     "output_type": "stream",
     "text": [
      "Enter the text: hi! how are you?\n",
      "Enter the word to search: are\n",
      "The word 'are' is FOUND in the text 'hi! how are you?' at position 8.\n",
      "Do you want to continue? (yes/no): yes\n",
      "Enter the text: Hi! how are you?\n",
      "Enter the word to search: hi\n",
      "The word 'hi' is NOT FOUND in the text 'Hi! how are you?'.\n",
      "Do you want to continue? (yes/no): no\n"
     ]
    }
   ],
   "source": [
    "import re\n",
    "\n",
    "def read_text():\n",
    "    user_given_text = input(\"Enter the text: \")\n",
    "    return user_given_text\n",
    "\n",
    "def read_word():\n",
    "    user_given_word = input(\"Enter the word to search: \")\n",
    "    return user_given_word\n",
    "\n",
    "def search_word_in_text(text, word):\n",
    "    pattern = re.compile(r'\\b{}\\b'.format(re.escape(word)))  \n",
    "    match = pattern.search(text)\n",
    "    if match:\n",
    "        return match.start()  # Returns the starting position of the word if found\n",
    "    else:\n",
    "        return None\n",
    "\n",
    "def main():\n",
    "    while True:\n",
    "        user_given_text = read_text()\n",
    "        user_given_word = read_word()\n",
    "        position = search_word_in_text(user_given_text, user_given_word)\n",
    "\n",
    "        if position is not None:\n",
    "            print(f\"The word '{user_given_word}' is FOUND in the text '{user_given_text}' at position {position}.\")\n",
    "        else:\n",
    "            print(f\"The word '{user_given_word}' is NOT FOUND in the text '{user_given_text}'.\")\n",
    "\n",
    "        # Ask if the user wants to continue\n",
    "        choice = input(\"Do you want to continue? (yes/no): \")\n",
    "        if choice.lower() != 'yes':\n",
    "            break\n",
    "\n",
    "if __name__ == \"__main__\":\n",
    "    main()"
   ]
  },
  {
   "cell_type": "markdown",
   "metadata": {},
   "source": [
    "<font size=\"6\"><font face=\"Bookman Old Style\"><b><center>Question 2</center></b><br>\n",
    "<font size=\"5\"><b>Develop python code as follows:</b><br>\n",
    "<font size=\"3\">a. User-defined function to read a text given by the user. This function should\n",
    "return the text to the function call.<br>\n",
    "b. User-defined function that reads a number between 1-9 given by the user. This\n",
    "function should return the number to the function call.<br>\n",
    "c. Pass the text and number to a user-defined function that searches X-lettered\n",
    "words in the text and returns the list of those words.<br>\n",
    "d. Print the following:<br>\n",
    "• Text<br>\n",
    "• Number<br>\n",
    "• List of X-lettered words</font>"
   ]
  },
  {
   "cell_type": "code",
   "execution_count": 15,
   "metadata": {},
   "outputs": [
    {
     "name": "stdout",
     "output_type": "stream",
     "text": [
      "Enter a text: Hi! how are you doing?\n",
      "Enter a number between 1 and 9: 5\n",
      "Text: Hi! how are you doing?\n",
      "Number: 5\n",
      "List of 5 -lettered words: ['doing']\n"
     ]
    }
   ],
   "source": [
    "import re\n",
    "\n",
    "def read_text():\n",
    "    return input(\"Enter a text: \")\n",
    "\n",
    "def read_number():\n",
    "    while True:\n",
    "        try:\n",
    "            number = int(input(\"Enter a number between 1 and 9: \"))\n",
    "            if 1 <= number <= 9:\n",
    "                return number\n",
    "            else:\n",
    "                print(\"Invalid input. Please enter a number between 1 and 9.\")\n",
    "        except ValueError:\n",
    "            print(\"Invalid input. Please enter a valid number.\")\n",
    "\n",
    "def search_x_lettered_words(text, number):\n",
    "    return re.findall(r'\\b\\w{%d}\\b' % number, text)\n",
    "\n",
    "def main():\n",
    "    # Read the text from the user\n",
    "    user_given_text = read_text()\n",
    "\n",
    "    # Read the number from the user\n",
    "    user_given_number = read_number()\n",
    "\n",
    "    # Search X-lettered words in the text\n",
    "    x_lettered_words = search_x_lettered_words(user_given_text, user_given_number)\n",
    "\n",
    "    # Print the results\n",
    "    print(\"Text:\", user_given_text)\n",
    "    print(\"Number:\", user_given_number)\n",
    "    print(\"List of\", user_given_number, \"-lettered words:\", x_lettered_words)\n",
    "\n",
    "if __name__ == \"__main__\":\n",
    "    main()"
   ]
  },
  {
   "cell_type": "markdown",
   "metadata": {},
   "source": [
    "<font size=\"6\"><font face=\"Bookman Old Style\"><b><center>Question 3</center></b><br>\n",
    "<font size=\"5\"><b>Develop python code as follows:</b><br>\n",
    "<font size=\"3\">a. User-defined function to read names of 5 cities given by the user. This\n",
    "function should return the list of city names.<br>\n",
    "b. Create a file ‘citynews.txt’ with some sentences that talk about a few cities\n",
    "using file handling functions. NOTE: Ensure to have names of at least 3 cities\n",
    "in the file.<br>\n",
    "c. Read the content of ‘citynews.txt’ file. If the file content contains at least 3\n",
    "city names that match the user given list of cities:<br>\n",
    "• then print: The document talks about cities.<br>\n",
    "• Else print: The document does not talk about cities.</font>"
   ]
  },
  {
   "cell_type": "code",
   "execution_count": 10,
   "metadata": {},
   "outputs": [],
   "source": [
    "def read_cities():\n",
    "    cities = []\n",
    "    for i in range(5):\n",
    "        city = input(f\"Enter city {i+1}: \")\n",
    "        cities.append(city)\n",
    "    return cities"
   ]
  },
  {
   "cell_type": "code",
   "execution_count": 11,
   "metadata": {},
   "outputs": [],
   "source": [
    "def create_city_news_file():\n",
    "    with open('citynews.txt', 'w') as file:\n",
    "        file.write(\"Tokyo is the most populous metropolitan area in the world.\\n\")\n",
    "        file.write(\" New York City is often called the BIG APPLE and is known for its iconic landmarks such as the Statue of Liberty\\n\")\n",
    "        file.write(\"Paris is known for its romantic ambiance.\\n\")\n",
    "        file.write(\"Dubai is home to the tallest building in the world, the Burj Khalifa\\n\")\n",
    "        file.write(\"Sydney is home to the Sydney Opera House, a UNESCO World Heritage Site\\n\")"
   ]
  },
  {
   "cell_type": "code",
   "execution_count": 12,
   "metadata": {},
   "outputs": [],
   "source": [
    "def check_city_mentions(cities):\n",
    "    with open('citynews.txt', 'r') as file:\n",
    "        content = file.read()\n",
    "\n",
    "    count = 0\n",
    "    for city in cities:\n",
    "        if city.lower() in content.lower():\n",
    "            count += 1\n",
    "\n",
    "    if count >= 3:\n",
    "        print(\"The document talks about cities.\")\n",
    "    else:\n",
    "        print(\"The document does not talk about cities.\")"
   ]
  },
  {
   "cell_type": "code",
   "execution_count": 14,
   "metadata": {},
   "outputs": [
    {
     "name": "stdout",
     "output_type": "stream",
     "text": [
      "Enter city 1: uganda\n",
      "Enter city 2: sakleshpurs\n",
      "Enter city 3: paris\n",
      "Enter city 4: malai kofta\n",
      "Enter city 5: abu dabhi\n",
      "The document does not talk about cities.\n"
     ]
    }
   ],
   "source": [
    "def main():\n",
    "    # Step a: Read names of 5 cities from the user\n",
    "    user_cities = read_cities()\n",
    "\n",
    "    # Step b: Create 'citynews.txt' with some sentences about cities\n",
    "    create_city_news_file()\n",
    "\n",
    "    # Step c: Check if 'citynews.txt' mentions at least 3 user-given cities\n",
    "    check_city_mentions(user_cities)\n",
    "\n",
    "if __name__ == \"__main__\":\n",
    "    main()"
   ]
  },
  {
   "cell_type": "code",
   "execution_count": null,
   "metadata": {},
   "outputs": [],
   "source": []
  }
 ],
 "metadata": {
  "kernelspec": {
   "display_name": "Python 3",
   "language": "python",
   "name": "python3"
  },
  "language_info": {
   "codemirror_mode": {
    "name": "ipython",
    "version": 3
   },
   "file_extension": ".py",
   "mimetype": "text/x-python",
   "name": "python",
   "nbconvert_exporter": "python",
   "pygments_lexer": "ipython3",
   "version": "3.7.6"
  }
 },
 "nbformat": 4,
 "nbformat_minor": 4
}
