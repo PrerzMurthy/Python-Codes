{
 "cells": [
  {
   "cell_type": "markdown",
   "metadata": {},
   "source": [
    "<font face=\"Bookman old style\"><font size=\"5\"><center><b>Question</b></center>\n",
    "<font size =\"3\">\n",
    "mobile_review_dataset = [[&quot;A great phone for the price point. Decent camera and speakers, battery also good for a days heavy use (not speaking for gamers). If using screen lightly then possibly can use for upto 2 days on a full charge. Samsung switch is great for moving your old phone data and settings to new one- almost magic.&quot;, &quot;positive&quot;],<br>\n",
    "[&quot;Slightly bulkier phone, slightly bigger also in size. Says amoled and gorilla glass but I don&#39;t see any perceptible improvement from my M30 screen quality.&quot;, &quot;negative&quot;],<br>\n",
    "[“Best Phone in the market in budget segment. Yeah the Phone get Little Warm when use Facebook Or youtube for long time but Thats not a issue. But Its The Best. Battery Backup Amazing. No Lag.”,“positive”],<br>\n",
    "[“Display is sAmoled and it&#39;s gorgeous at this price with 120hz refresh rate. I&#39;m comfortable with u shaped notch. It&#39;s your personal choice you love it, or you don&#39;t.”, “positive”],<br>\n",
    "[“this was my initial experience but after 8 days my phone upper half is heating to much only after using it5-10 min of simple task and it heated so much that u can&#39;t hold your phone in hand IT IS A HEATING MACHINE . YOU CAN USE IT EVEN FOR PRESSING CLOTHES And this phone wifi is as worst as this phone. It can&#39;t even scan for 5ghz hotspot.”, ”negative”],<br>\n",
    "[“Just after 12 days of use, the display has been damaged but without any physical damage on screen (able to receive calls but screen looks blank only) since it has dropped from fridge. When I visited a Samsung store it won&#39;t be cover under free warranty, they said. I had to spend another 6200/- for changing the display only. ”, ”negative”],<br>\n",
    "[“After two months of usage it&#39;s charging port is not working and takes 4-5 hours for full charging.It was a manufacturing defect by samsung, but samsung care has refused to accept that defect and told me to Amazon for replacement or refund, Amazon also refused to initiate the refund.And this is the 3rd class os experience I have experienced 1st time. Battery was draining to fast only 5-6 hours on day to day usage. Takes too much time for full charging.”, ”negative”],<br>\n",
    "[“The display quality on the Samsung M34 is simply stunning. The large AMOLED screen with its vibrant colors and impressive resolution brings my content to life in ways I never thought possible. Whether I&#39;m watching movies or simply browsing the web, the immersive visuals make every activity a joy.”, ”positive”],<br>\n",
    "[“Performance-wise, the Samsung M34 5G is an absolute powerhouse. The combination of a robust processor, ample RAM, and optimized software results in smooth and snappy performance across the board. Apps launch in an instant, and multitasking is effortless, even when juggling multiple resource- intensive applications.”, ”positive”],<br>\n",
    "[“1. Very Poor Performance 2. Shake Camera not working properly (All videos Shaking) 3. Mobile Over Heating issues 4. Apps are opened quickly (Hanging issues) 5. Samsung&#39;s Customer care side also no proper solution above listed issues. 6. Refresh rating also very poor, I think refresh rating below 90hz.”, “negative”]]<br>\n",
    "Consider the above variable mobile_review_dataset which holds reviews of phones along with the\n",
    "corresponding sentiment tags, as the training data. Suppose that you are building a classification\n",
    "tool that learns from the training data and predicts the sentiment tag for an unseen test data."
   ]
  },
  {
   "cell_type": "markdown",
   "metadata": {},
   "source": [
    "<font face=\"Bookman old style\"><font size=\"3\"><b>1. Dataset: Define the above variable as it is and then write your own code to extract details from that variable as per your requirement.</b>"
   ]
  },
  {
   "cell_type": "markdown",
   "metadata": {},
   "source": [
    "<font face=\"Bookman old style\"><font size=\"3\">Inserting data as given above"
   ]
  },
  {
   "cell_type": "code",
   "execution_count": 1,
   "metadata": {
    "scrolled": true
   },
   "outputs": [
    {
     "data": {
      "text/plain": [
       "[[\"A great phone for the price point. Decent camera and speakers, battery also good for a day's heavy use (not speaking for gamers). If using the screen lightly then possibly can use for up to 2 days on a full charge. Samsung switch is great for moving your old phone data and settings to the new one- almost magic.\",\n",
       "  'positive'],\n",
       " [\"Slightly bulkier phone, slightly bigger also in size. Says amoled and gorilla glass but I don't see any perceptible improvement from my M30 screen quality.\",\n",
       "  'negative'],\n",
       " [\"Best Phone in the market in the budget segment. Yeah, the Phone gets Little Warm when using Facebook or YouTube for a long time, but That's not an issue. But It's The Best. Battery Backup Amazing. No Lag.\",\n",
       "  'positive'],\n",
       " [\"Display is sAmoled and it's gorgeous at this price with 120Hz refresh rate. I'm comfortable with a u-shaped notch. It's your personal choice; you love it, or you don't.\",\n",
       "  'positive'],\n",
       " [\"This was my initial experience but after 8 days my phone's upper half is heating too much only after using it 5-10 min of a simple task, and it heated so much that you can't hold your phone in hand. IT IS A HEATING MACHINE. YOU CAN USE IT EVEN FOR PRESSING CLOTHES. And this phone's wifi is as worst as this phone. It can't even scan for 5GHz hotspot.\",\n",
       "  'negative'],\n",
       " [\"Just after 12 days of use, the display has been damaged but without any physical damage on the screen (able to receive calls but the screen looks blank only) since it has dropped from the fridge. When I visited a Samsung store, it won't be covered under free warranty, they said. I had to spend another 6200/- for changing the display only.\",\n",
       "  'negative'],\n",
       " ['After two months of usage, its charging port is not working and takes 4-5 hours for full charging. It was a manufacturing defect by Samsung, but Samsung care has refused to accept that defect and told me to go to Amazon for replacement or refund. Amazon also refused to initiate the refund. And this is the 3rd class OS experience I have experienced 1st time. Battery was draining too fast, only 5-6 hours on day-to-day usage. Takes too much time for full charging.',\n",
       "  'negative'],\n",
       " [\"The display quality on the Samsung M34 is simply stunning. The large AMOLED screen with its vibrant colors and impressive resolution brings my content to life in ways I never thought possible. Whether I'm watching movies or simply browsing the web, the immersive visuals make every activity a joy.\",\n",
       "  'positive'],\n",
       " ['Performance-wise, the Samsung M34 5G is an absolute powerhouse. The combination of a robust processor, ample RAM, and optimized software results in smooth and snappy performance across the board. Apps launch in an instant, and multitasking is effortless, even when juggling multiple resource-intensive applications.',\n",
       "  'positive'],\n",
       " [\"1. Very Poor Performance 2. Shake Camera not working properly (All videos Shaking) 3. Mobile Over Heating issues 4. Apps are opened quickly (Hanging issues) 5. Samsung's Customer care also no proper solution above listed issues. 6. Refresh rating is also very poor; I think refresh rating is below 90Hz.\",\n",
       "  'negative']]"
      ]
     },
     "execution_count": 1,
     "metadata": {},
     "output_type": "execute_result"
    }
   ],
   "source": [
    "mobile_review_dataset = [\n",
    "    [\"A great phone for the price point. Decent camera and speakers, battery also good for a day's heavy use (not speaking for gamers). If using the screen lightly then possibly can use for up to 2 days on a full charge. Samsung switch is great for moving your old phone data and settings to the new one- almost magic.\", \"positive\"],\n",
    "    [\"Slightly bulkier phone, slightly bigger also in size. Says amoled and gorilla glass but I don't see any perceptible improvement from my M30 screen quality.\", \"negative\"],\n",
    "    [\"Best Phone in the market in the budget segment. Yeah, the Phone gets Little Warm when using Facebook or YouTube for a long time, but That's not an issue. But It's The Best. Battery Backup Amazing. No Lag.\", \"positive\"],\n",
    "    [\"Display is sAmoled and it's gorgeous at this price with 120Hz refresh rate. I'm comfortable with a u-shaped notch. It's your personal choice; you love it, or you don't.\", \"positive\"],\n",
    "    [\"This was my initial experience but after 8 days my phone's upper half is heating too much only after using it 5-10 min of a simple task, and it heated so much that you can't hold your phone in hand. IT IS A HEATING MACHINE. YOU CAN USE IT EVEN FOR PRESSING CLOTHES. And this phone's wifi is as worst as this phone. It can't even scan for 5GHz hotspot.\", \"negative\"],\n",
    "    [\"Just after 12 days of use, the display has been damaged but without any physical damage on the screen (able to receive calls but the screen looks blank only) since it has dropped from the fridge. When I visited a Samsung store, it won't be covered under free warranty, they said. I had to spend another 6200/- for changing the display only.\", \"negative\"],\n",
    "    [\"After two months of usage, its charging port is not working and takes 4-5 hours for full charging. It was a manufacturing defect by Samsung, but Samsung care has refused to accept that defect and told me to go to Amazon for replacement or refund. Amazon also refused to initiate the refund. And this is the 3rd class OS experience I have experienced 1st time. Battery was draining too fast, only 5-6 hours on day-to-day usage. Takes too much time for full charging.\", \"negative\"],\n",
    "    [\"The display quality on the Samsung M34 is simply stunning. The large AMOLED screen with its vibrant colors and impressive resolution brings my content to life in ways I never thought possible. Whether I'm watching movies or simply browsing the web, the immersive visuals make every activity a joy.\", \"positive\"],\n",
    "    [\"Performance-wise, the Samsung M34 5G is an absolute powerhouse. The combination of a robust processor, ample RAM, and optimized software results in smooth and snappy performance across the board. Apps launch in an instant, and multitasking is effortless, even when juggling multiple resource-intensive applications.\", \"positive\"],\n",
    "    [\"1. Very Poor Performance 2. Shake Camera not working properly (All videos Shaking) 3. Mobile Over Heating issues 4. Apps are opened quickly (Hanging issues) 5. Samsung's Customer care also no proper solution above listed issues. 6. Refresh rating is also very poor; I think refresh rating is below 90Hz.\", \"negative\"]\n",
    "]\n",
    "mobile_review_dataset"
   ]
  },
  {
   "cell_type": "markdown",
   "metadata": {},
   "source": [
    "<font face=\"Bookman old style\"><font size=\"3\">Extracting the review as train_data"
   ]
  },
  {
   "cell_type": "code",
   "execution_count": 2,
   "metadata": {
    "scrolled": true
   },
   "outputs": [
    {
     "name": "stdout",
     "output_type": "stream",
     "text": [
      "[\"A great phone for the price point. Decent camera and speakers, battery also good for a day's heavy use (not speaking for gamers). If using the screen lightly then possibly can use for up to 2 days on a full charge. Samsung switch is great for moving your old phone data and settings to the new one- almost magic.\"\n",
      " \"Slightly bulkier phone, slightly bigger also in size. Says amoled and gorilla glass but I don't see any perceptible improvement from my M30 screen quality.\"\n",
      " 'Best Phone in the market in budget segment. Yeah the Phone get Little Warm when use Facebook Or youtube for long time but Thats not a issue. But Its The Best. Battery Backup Amazing. No Lag.'\n",
      " \"Display is sAmoled and it's gorgeous at this price with 120hz refresh rate. I'm comfortable with u shaped notch. It's your personal choice you love it, or you don't.\"\n",
      " \"This was my initial experience but after 8 days my phone upper half is heating too much only after using it 5-10 min of a simple task, and it heated so much that you can't hold your phone in hand. IT IS A HEATING MACHINE. YOU CAN USE IT EVEN FOR PRESSING CLOTHES. And this phone wifi is as worst as this phone. It can't even scan for 5ghz hotspot.\"\n",
      " \"Just after 12 days of use, the display has been damaged but without any physical damage on the screen (able to receive calls but the screen looks blank only) since it has dropped from the fridge. When I visited a Samsung store, it won't be covered under free warranty, they said. I had to spend another 6200/- for changing the display only.\"\n",
      " 'After two months of usage, its charging port is not working and takes 4-5 hours for full charging. It was a manufacturing defect by Samsung, but Samsung care has refused to accept that defect and told me to go to Amazon for replacement or refund. Amazon also refused to initiate the refund. And this is the 3rd class OS experience I have experienced 1st time. Battery was draining too fast, only 5-6 hours on day-to-day usage. Takes too much time for full charging.'\n",
      " \"The display quality on the Samsung M34 is simply stunning. The large AMOLED screen with its vibrant colors and impressive resolution brings my content to life in ways I never thought possible. Whether I'm watching movies or simply browsing the web, the immersive visuals make every activity a joy.\"\n",
      " 'Performance-wise, the Samsung M34 5G is an absolute powerhouse. The combination of a robust processor, ample RAM, and optimized software results in smooth and snappy performance across the board. Apps launch in an instant, and multitasking is effortless, even when juggling multiple resource-intensive applications.'\n",
      " \"1. Very Poor Performance 2. Shake Camera not working properly (All videos Shaking) 3. Mobile Over Heating issues 4. Apps are opened quickly (Hanging issues) 5. Samsung's Customer care also no proper solution above listed issues. 6. Refresh rating is also very poor; I think refresh rating is below 90Hz.\"]\n"
     ]
    }
   ],
   "source": [
    "import numpy as np\n",
    "train_data = np.array([\n",
    "    \"A great phone for the price point. Decent camera and speakers, battery also good for a day's heavy use (not speaking for gamers). If using the screen lightly then possibly can use for up to 2 days on a full charge. Samsung switch is great for moving your old phone data and settings to the new one- almost magic.\",\n",
    "    \"Slightly bulkier phone, slightly bigger also in size. Says amoled and gorilla glass but I don't see any perceptible improvement from my M30 screen quality.\",\n",
    "    \"Best Phone in the market in budget segment. Yeah the Phone get Little Warm when use Facebook Or youtube for long time but Thats not a issue. But Its The Best. Battery Backup Amazing. No Lag.\",\n",
    "    \"Display is sAmoled and it's gorgeous at this price with 120hz refresh rate. I'm comfortable with u shaped notch. It's your personal choice you love it, or you don't.\",\n",
    "    \"This was my initial experience but after 8 days my phone upper half is heating too much only after using it 5-10 min of a simple task, and it heated so much that you can't hold your phone in hand. IT IS A HEATING MACHINE. YOU CAN USE IT EVEN FOR PRESSING CLOTHES. And this phone wifi is as worst as this phone. It can't even scan for 5ghz hotspot.\",\n",
    "    \"Just after 12 days of use, the display has been damaged but without any physical damage on the screen (able to receive calls but the screen looks blank only) since it has dropped from the fridge. When I visited a Samsung store, it won't be covered under free warranty, they said. I had to spend another 6200/- for changing the display only.\",\n",
    "    \"After two months of usage, its charging port is not working and takes 4-5 hours for full charging. It was a manufacturing defect by Samsung, but Samsung care has refused to accept that defect and told me to go to Amazon for replacement or refund. Amazon also refused to initiate the refund. And this is the 3rd class OS experience I have experienced 1st time. Battery was draining too fast, only 5-6 hours on day-to-day usage. Takes too much time for full charging.\",\n",
    "    \"The display quality on the Samsung M34 is simply stunning. The large AMOLED screen with its vibrant colors and impressive resolution brings my content to life in ways I never thought possible. Whether I'm watching movies or simply browsing the web, the immersive visuals make every activity a joy.\",\n",
    "    \"Performance-wise, the Samsung M34 5G is an absolute powerhouse. The combination of a robust processor, ample RAM, and optimized software results in smooth and snappy performance across the board. Apps launch in an instant, and multitasking is effortless, even when juggling multiple resource-intensive applications.\",\n",
    "    \"1. Very Poor Performance 2. Shake Camera not working properly (All videos Shaking) 3. Mobile Over Heating issues 4. Apps are opened quickly (Hanging issues) 5. Samsung's Customer care also no proper solution above listed issues. 6. Refresh rating is also very poor; I think refresh rating is below 90Hz.\"\n",
    "])\n",
    "print(train_data)"
   ]
  },
  {
   "cell_type": "markdown",
   "metadata": {},
   "source": [
    "<font face=\"Bookman old style\"><font size=\"3\">Extracting the sentiment as train_label"
   ]
  },
  {
   "cell_type": "code",
   "execution_count": 3,
   "metadata": {
    "scrolled": false
   },
   "outputs": [
    {
     "name": "stdout",
     "output_type": "stream",
     "text": [
      "['positive' 'negative' 'positive' 'positive' 'negative' 'negative'\n",
      " 'negative' 'positive' 'positive' 'negative']\n"
     ]
    }
   ],
   "source": [
    "train_label = np.array([\"positive\", \"negative\", \"positive\", \"positive\", \"negative\", \"negative\", \"negative\", \"positive\", \"positive\", \"negative\"])\n",
    "print(train_label)"
   ]
  },
  {
   "cell_type": "markdown",
   "metadata": {},
   "source": [
    "<font face=\"Bookman old style\"><font size=\"3\"><b>2. Text preprocessing: Lowercase each review text. Remove punctuations, numbers, special characters, etc in each review. Remove stopwords using Stopwords English corpus. Perform word Lemmatization.</b>"
   ]
  },
  {
   "cell_type": "markdown",
   "metadata": {},
   "source": [
    "<font face=\"Bookman old style\"><font size=\"3\">Making the last review as one comment by removing the numbers"
   ]
  },
  {
   "cell_type": "code",
   "execution_count": 4,
   "metadata": {},
   "outputs": [
    {
     "name": "stdout",
     "output_type": "stream",
     "text": [
      "Very Poor Performance  Shake Camera not working properly (All videos Shaking)  Mobile Over Heating issues  Apps are opened quickly (Hanging issues)  Samsung's Customer care also no proper solution above listed issues.  Refresh rating is also very poor; I think refresh rating is below 90Hz.\n"
     ]
    }
   ],
   "source": [
    "import re\n",
    "\n",
    "last_review = \"1. Very Poor Performance 2. Shake Camera not working properly (All videos Shaking) 3. Mobile Over Heating issues 4. Apps are opened quickly (Hanging issues) 5. Samsung's Customer care also no proper solution above listed issues. 6. Refresh rating is also very poor; I think refresh rating is below 90Hz.\"\n",
    "\n",
    "# Remove numbers and extra spaces\n",
    "cleaned_last_review = re.sub(r'\\d+\\.', '', last_review).strip()\n",
    "\n",
    "print(cleaned_last_review)"
   ]
  },
  {
   "cell_type": "markdown",
   "metadata": {},
   "source": [
    "<font face=\"Bookman old style\"><font size=\"3\">Adding the cleaned last review back to the original train_data"
   ]
  },
  {
   "cell_type": "code",
   "execution_count": 5,
   "metadata": {},
   "outputs": [
    {
     "name": "stdout",
     "output_type": "stream",
     "text": [
      "[\"A great phone for the price point. Decent camera and speakers, battery also good for a day's heavy use (not speaking for gamers). If using the screen lightly then possibly can use for up to 2 days on a full charge. Samsung switch is great for moving your old phone data and settings to the new one- almost magic.\"\n",
      " \"Slightly bulkier phone, slightly bigger also in size. Says amoled and gorilla glass but I don't see any perceptible improvement from my M30 screen quality.\"\n",
      " \"Best Phone in the market in the budget segment. Yeah, the Phone gets Little Warm when using Facebook or YouTube for a long time, but That's not an issue. But It's The Best. Battery Backup Amazing. No Lag.\"\n",
      " \"Display is sAmoled and it's gorgeous at this price with 120Hz refresh rate. I'm comfortable with a u-shaped notch. It's your personal choice; you love it, or you don't.\"\n",
      " \"This was my initial experience but after 8 days my phone's upper half is heating too much only after using it 5-10 min of a simple task, and it heated so much that you can't hold your phone in hand. IT IS A HEATING MACHINE. YOU CAN USE IT EVEN FOR PRESSING CLOTHES. And this phone's wifi is as worst as this phone. It can't even scan for 5GHz hotspot.\"\n",
      " \"Just after 12 days of use, the display has been damaged but without any physical damage on the screen (able to receive calls but the screen looks blank only) since it has dropped from the fridge. When I visited a Samsung store, it won't be covered under free warranty, they said. I had to spend another 6200/- for changing the display only.\"\n",
      " 'After two months of usage, its charging port is not working and takes 4-5 hours for full charging. It was a manufacturing defect by Samsung, but Samsung care has refused to accept that defect and told me to go to Amazon for replacement or refund. Amazon also refused to initiate the refund. And this is the 3rd class OS experience I have experienced 1st time. Battery was draining too fast, only 5-6 hours on day-to-day usage. Takes too much time for full charging.'\n",
      " \"The display quality on the Samsung M34 is simply stunning. The large AMOLED screen with its vibrant colors and impressive resolution brings my content to life in ways I never thought possible. Whether I'm watching movies or simply browsing the web, the immersive visuals make every activity a joy.\"\n",
      " 'Performance-wise, the Samsung M34 5G is an absolute powerhouse. The combination of a robust processor, ample RAM, and optimized software results in smooth and snappy performance across the board. Apps launch in an instant, and multitasking is effortless, even when juggling multiple resource-intensive applications.'\n",
      " \"Very Poor Performance  Shake Camera not working properly (All videos Shaking)  Mobile Over Heating issues  Apps are opened quickly (Hanging issues)  Samsung's Customer care also no proper solution above listed issues.  Refresh rating is also very poor; I think refresh rating is below 90Hz.\"]\n"
     ]
    }
   ],
   "source": [
    "last_review = mobile_review_dataset[-1][0]\n",
    "\n",
    "train_data = np.array([review[0] for review in mobile_review_dataset[:-1]] + [cleaned_last_review])\n",
    "print(train_data)"
   ]
  },
  {
   "cell_type": "markdown",
   "metadata": {},
   "source": [
    "<font face = \"bookman old style\"><font size=\"3\">Lowercase each review text"
   ]
  },
  {
   "cell_type": "code",
   "execution_count": 6,
   "metadata": {},
   "outputs": [
    {
     "name": "stdout",
     "output_type": "stream",
     "text": [
      "[\"a great phone for the price point. decent camera and speakers, battery also good for a day's heavy use (not speaking for gamers). if using the screen lightly then possibly can use for up to 2 days on a full charge. samsung switch is great for moving your old phone data and settings to the new one- almost magic.\", \"slightly bulkier phone, slightly bigger also in size. says amoled and gorilla glass but i don't see any perceptible improvement from my m30 screen quality.\", \"best phone in the market in the budget segment. yeah, the phone gets little warm when using facebook or youtube for a long time, but that's not an issue. but it's the best. battery backup amazing. no lag.\", \"display is samoled and it's gorgeous at this price with 120hz refresh rate. i'm comfortable with a u-shaped notch. it's your personal choice; you love it, or you don't.\", \"this was my initial experience but after 8 days my phone's upper half is heating too much only after using it 5-10 min of a simple task, and it heated so much that you can't hold your phone in hand. it is a heating machine. you can use it even for pressing clothes. and this phone's wifi is as worst as this phone. it can't even scan for 5ghz hotspot.\", \"just after 12 days of use, the display has been damaged but without any physical damage on the screen (able to receive calls but the screen looks blank only) since it has dropped from the fridge. when i visited a samsung store, it won't be covered under free warranty, they said. i had to spend another 6200/- for changing the display only.\", 'after two months of usage, its charging port is not working and takes 4-5 hours for full charging. it was a manufacturing defect by samsung, but samsung care has refused to accept that defect and told me to go to amazon for replacement or refund. amazon also refused to initiate the refund. and this is the 3rd class os experience i have experienced 1st time. battery was draining too fast, only 5-6 hours on day-to-day usage. takes too much time for full charging.', \"the display quality on the samsung m34 is simply stunning. the large amoled screen with its vibrant colors and impressive resolution brings my content to life in ways i never thought possible. whether i'm watching movies or simply browsing the web, the immersive visuals make every activity a joy.\", 'performance-wise, the samsung m34 5g is an absolute powerhouse. the combination of a robust processor, ample ram, and optimized software results in smooth and snappy performance across the board. apps launch in an instant, and multitasking is effortless, even when juggling multiple resource-intensive applications.', \"very poor performance  shake camera not working properly (all videos shaking)  mobile over heating issues  apps are opened quickly (hanging issues)  samsung's customer care also no proper solution above listed issues.  refresh rating is also very poor; i think refresh rating is below 90hz.\"]\n"
     ]
    }
   ],
   "source": [
    "train_data_lower = [review.lower() for review in train_data]\n",
    "print(train_data_lower)"
   ]
  },
  {
   "cell_type": "markdown",
   "metadata": {},
   "source": [
    "<font face = \"bookman old style\"><font size=\"3\">Remove punctuations, numbers, special characters, etc in each review."
   ]
  },
  {
   "cell_type": "code",
   "execution_count": 7,
   "metadata": {},
   "outputs": [
    {
     "name": "stdout",
     "output_type": "stream",
     "text": [
      "['a great phone for the price point decent camera and speakers battery also good for a days heavy use not speaking for gamers if using the screen lightly then possibly can use for up to 2 days on a full charge samsung switch is great for moving your old phone data and settings to the new one almost magic', 'slightly bulkier phone slightly bigger also in size says amoled and gorilla glass but i dont see any perceptible improvement from my m30 screen quality', 'best phone in the market in the budget segment yeah the phone gets little warm when using facebook or youtube for a long time but thats not an issue but its the best battery backup amazing no lag', 'display is samoled and its gorgeous at this price with 120hz refresh rate im comfortable with a ushaped notch its your personal choice you love it or you dont', 'this was my initial experience but after 8 days my phones upper half is heating too much only after using it 510 min of a simple task and it heated so much that you cant hold your phone in hand it is a heating machine you can use it even for pressing clothes and this phones wifi is as worst as this phone it cant even scan for 5ghz hotspot', 'just after 12 days of use the display has been damaged but without any physical damage on the screen able to receive calls but the screen looks blank only since it has dropped from the fridge when i visited a samsung store it wont be covered under free warranty they said i had to spend another 6200 for changing the display only', 'after two months of usage its charging port is not working and takes 45 hours for full charging it was a manufacturing defect by samsung but samsung care has refused to accept that defect and told me to go to amazon for replacement or refund amazon also refused to initiate the refund and this is the 3rd class os experience i have experienced 1st time battery was draining too fast only 56 hours on daytoday usage takes too much time for full charging', 'the display quality on the samsung m34 is simply stunning the large amoled screen with its vibrant colors and impressive resolution brings my content to life in ways i never thought possible whether im watching movies or simply browsing the web the immersive visuals make every activity a joy', 'performancewise the samsung m34 5g is an absolute powerhouse the combination of a robust processor ample ram and optimized software results in smooth and snappy performance across the board apps launch in an instant and multitasking is effortless even when juggling multiple resourceintensive applications', 'very poor performance  shake camera not working properly all videos shaking  mobile over heating issues  apps are opened quickly hanging issues  samsungs customer care also no proper solution above listed issues  refresh rating is also very poor i think refresh rating is below 90hz']\n"
     ]
    }
   ],
   "source": [
    "import re\n",
    "\n",
    "pattern = r'[^\\w\\s]'\n",
    "train_data_no_punc = [re.sub(pattern, '', review) for review in train_data_lower]\n",
    "print(train_data_no_punc)"
   ]
  },
  {
   "cell_type": "markdown",
   "metadata": {},
   "source": [
    "<font face = \"bookman old style\"><font size=\"3\">Remove stopwords using Stopwords English corpus."
   ]
  },
  {
   "cell_type": "code",
   "execution_count": 33,
   "metadata": {},
   "outputs": [
    {
     "name": "stdout",
     "output_type": "stream",
     "text": [
      "179\n",
      "['great phone price point decent camera speakers battery also good days heavy use speaking gamers using screen lightly possibly use 2 days full charge samsung switch great moving old phone data settings new one almost magic', 'slightly bulkier phone slightly bigger also size says amoled gorilla glass dont see perceptible improvement m30 screen quality', 'best phone market budget segment yeah phone gets little warm using facebook youtube long time thats issue best battery backup amazing lag', 'display samoled gorgeous price 120hz refresh rate im comfortable ushaped notch personal choice love dont', 'initial experience 8 days phones upper half heating much using 510 min simple task heated much cant hold phone hand heating machine use even pressing clothes phones wifi worst phone cant even scan 5ghz hotspot', '12 days use display damaged without physical damage screen able receive calls screen looks blank since dropped fridge visited samsung store wont covered free warranty said spend another 6200 changing display', 'two months usage charging port working takes 45 hours full charging manufacturing defect samsung samsung care refused accept defect told go amazon replacement refund amazon also refused initiate refund 3rd class os experience experienced 1st time battery draining fast 56 hours daytoday usage takes much time full charging', 'display quality samsung m34 simply stunning large amoled screen vibrant colors impressive resolution brings content life ways never thought possible whether im watching movies simply browsing web immersive visuals make every activity joy', 'performancewise samsung m34 5g absolute powerhouse combination robust processor ample ram optimized software results smooth snappy performance across board apps launch instant multitasking effortless even juggling multiple resourceintensive applications', 'poor performance shake camera working properly videos shaking mobile heating issues apps opened quickly hanging issues samsungs customer care also proper solution listed issues refresh rating also poor think refresh rating 90hz']\n"
     ]
    }
   ],
   "source": [
    "from nltk.corpus import stopwords\n",
    "import nltk\n",
    "\n",
    "stop_words = set(stopwords.words('english'))\n",
    "print(len(stop_words))\n",
    "train_data_no_stopwords = [' '.join([word for word in review.split() if word not in stop_words]) for review in train_data_no_punc]\n",
    "print(train_data_no_stopwords)"
   ]
  },
  {
   "cell_type": "markdown",
   "metadata": {},
   "source": [
    "<font face = \"bookman old style\"><font size=\"3\"> Perform word Lemmatization."
   ]
  },
  {
   "cell_type": "code",
   "execution_count": 12,
   "metadata": {},
   "outputs": [
    {
     "name": "stdout",
     "output_type": "stream",
     "text": [
      "[['great phone price point decent camera speaker battery also good day heavy use speaking gamers using screen lightly possibly use 2 day full charge samsung switch great moving old phone data setting new one almost magic'], ['slightly bulkier phone slightly bigger also size say amoled gorilla glass dont see perceptible improvement m30 screen quality'], ['best phone market budget segment yeah phone get little warm using facebook youtube long time thats issue best battery backup amazing lag'], ['display samoled gorgeous price 120hz refresh rate im comfortable ushaped notch personal choice love dont'], ['initial experience 8 day phone upper half heating much using 510 min simple task heated much cant hold phone hand heating machine use even pressing clothes phone wifi worst phone cant even scan 5ghz hotspot'], ['12 day use display damaged without physical damage screen able receive call screen look blank since dropped fridge visited samsung store wont covered free warranty said spend another 6200 changing display'], ['two month usage charging port working take 45 hour full charging manufacturing defect samsung samsung care refused accept defect told go amazon replacement refund amazon also refused initiate refund 3rd class o experience experienced 1st time battery draining fast 56 hour daytoday usage take much time full charging'], ['display quality samsung m34 simply stunning large amoled screen vibrant color impressive resolution brings content life way never thought possible whether im watching movie simply browsing web immersive visuals make every activity joy'], ['performancewise samsung m34 5g absolute powerhouse combination robust processor ample ram optimized software result smooth snappy performance across board apps launch instant multitasking effortless even juggling multiple resourceintensive application'], ['poor performance shake camera working properly video shaking mobile heating issue apps opened quickly hanging issue samsungs customer care also proper solution listed issue refresh rating also poor think refresh rating 90hz']]\n"
     ]
    }
   ],
   "source": [
    "from nltk.stem import WordNetLemmatizer\n",
    "\n",
    "lemmatizer = WordNetLemmatizer()\n",
    "train_data_lemmatized = [[' '.join([lemmatizer.lemmatize(word) for word in review.split()])] for review in train_data_no_stopwords]\n",
    "print(train_data_lemmatized)"
   ]
  },
  {
   "cell_type": "markdown",
   "metadata": {},
   "source": [
    "<font face=\"Bookman old style\"><font size=\"3\"><b>3. Feature Extraction: Using CountVectorizer, create Bag of Words feature vectors for the cleaned training data.</b>"
   ]
  },
  {
   "cell_type": "code",
   "execution_count": 25,
   "metadata": {
    "scrolled": false
   },
   "outputs": [
    {
     "name": "stdout",
     "output_type": "stream",
     "text": [
      "{'great': 79, 'phone': 135, 'price': 144, 'point': 137, 'decent': 56, 'camera': 36, 'speaker': 183, 'battery': 26, 'also': 17, 'good': 76, 'day': 54, 'heavy': 85, 'use': 199, 'speaking': 184, 'gamers': 72, 'using': 201, 'screen': 168, 'lightly': 103, 'possibly': 141, 'full': 71, 'charge': 40, 'samsung': 164, 'switch': 188, 'moving': 120, 'old': 127, 'data': 53, 'setting': 171, 'new': 125, 'one': 128, 'almost': 16, 'magic': 112, 'slightly': 178, 'bulkier': 34, 'bigger': 28, 'size': 177, 'say': 166, 'amoled': 20, 'gorilla': 78, 'glass': 74, 'dont': 59, 'see': 169, 'perceptible': 131, 'improvement': 92, 'm30': 109, 'quality': 148, 'best': 27, 'market': 115, 'budget': 33, 'segment': 170, 'yeah': 217, 'get': 73, 'little': 105, 'warm': 206, 'facebook': 67, 'youtube': 218, 'long': 106, 'time': 194, 'thats': 191, 'issue': 96, 'backup': 25, 'amazing': 18, 'lag': 99, 'display': 58, 'samoled': 163, 'gorgeous': 77, '120hz': 1, 'refresh': 154, 'rate': 151, 'im': 89, 'comfortable': 47, 'ushaped': 200, 'notch': 126, 'personal': 134, 'choice': 42, 'love': 108, 'initial': 93, 'experience': 65, 'upper': 197, 'half': 80, 'heating': 84, 'much': 121, '510': 5, 'min': 116, 'simple': 174, 'task': 190, 'heated': 83, 'cant': 37, 'hold': 86, 'hand': 81, 'machine': 111, 'even': 63, 'pressing': 143, 'clothes': 44, 'wifi': 212, 'worst': 216, 'scan': 167, '5ghz': 8, 'hotspot': 87, '12': 0, 'damaged': 52, 'without': 213, 'physical': 136, 'damage': 51, 'able': 11, 'receive': 153, 'call': 35, 'look': 107, 'blank': 29, 'since': 176, 'dropped': 61, 'fridge': 70, 'visited': 204, 'store': 186, 'wont': 214, 'covered': 49, 'free': 69, 'warranty': 207, 'said': 162, 'spend': 185, 'another': 22, '6200': 9, 'changing': 39, 'two': 196, 'month': 118, 'usage': 198, 'charging': 41, 'port': 139, 'working': 215, 'take': 189, '45': 4, 'hour': 88, 'manufacturing': 114, 'defect': 57, 'care': 38, 'refused': 156, 'accept': 13, 'told': 195, 'go': 75, 'amazon': 19, 'replacement': 157, 'refund': 155, 'initiate': 94, '3rd': 3, 'class': 43, 'experienced': 66, '1st': 2, 'draining': 60, 'fast': 68, '56': 6, 'daytoday': 55, 'm34': 110, 'simply': 175, 'stunning': 187, 'large': 100, 'vibrant': 202, 'color': 45, 'impressive': 91, 'resolution': 158, 'brings': 31, 'content': 48, 'life': 102, 'way': 209, 'never': 124, 'thought': 193, 'possible': 140, 'whether': 211, 'watching': 208, 'movie': 119, 'browsing': 32, 'web': 210, 'immersive': 90, 'visuals': 205, 'make': 113, 'every': 64, 'activity': 15, 'joy': 97, 'performancewise': 133, '5g': 7, 'absolute': 12, 'powerhouse': 142, 'combination': 46, 'robust': 161, 'processor': 145, 'ample': 21, 'ram': 150, 'optimized': 130, 'software': 181, 'result': 160, 'smooth': 179, 'snappy': 180, 'performance': 132, 'across': 14, 'board': 30, 'apps': 24, 'launch': 101, 'instant': 95, 'multitasking': 123, 'effortless': 62, 'juggling': 98, 'multiple': 122, 'resourceintensive': 159, 'application': 23, 'poor': 138, 'shake': 172, 'properly': 147, 'video': 203, 'shaking': 173, 'mobile': 117, 'opened': 129, 'quickly': 149, 'hanging': 82, 'samsungs': 165, 'customer': 50, 'proper': 146, 'solution': 182, 'listed': 104, 'rating': 152, 'think': 192, '90hz': 10}\n",
      "['12', '120hz', '1st', '3rd', '45', '510', '56', '5g', '5ghz', '6200', '90hz', 'able', 'absolute', 'accept', 'across', 'activity', 'almost', 'also', 'amazing', 'amazon', 'amoled', 'ample', 'another', 'application', 'apps', 'backup', 'battery', 'best', 'bigger', 'blank', 'board', 'brings', 'browsing', 'budget', 'bulkier', 'call', 'camera', 'cant', 'care', 'changing', 'charge', 'charging', 'choice', 'class', 'clothes', 'color', 'combination', 'comfortable', 'content', 'covered', 'customer', 'damage', 'damaged', 'data', 'day', 'daytoday', 'decent', 'defect', 'display', 'dont', 'draining', 'dropped', 'effortless', 'even', 'every', 'experience', 'experienced', 'facebook', 'fast', 'free', 'fridge', 'full', 'gamers', 'get', 'glass', 'go', 'good', 'gorgeous', 'gorilla', 'great', 'half', 'hand', 'hanging', 'heated', 'heating', 'heavy', 'hold', 'hotspot', 'hour', 'im', 'immersive', 'impressive', 'improvement', 'initial', 'initiate', 'instant', 'issue', 'joy', 'juggling', 'lag', 'large', 'launch', 'life', 'lightly', 'listed', 'little', 'long', 'look', 'love', 'm30', 'm34', 'machine', 'magic', 'make', 'manufacturing', 'market', 'min', 'mobile', 'month', 'movie', 'moving', 'much', 'multiple', 'multitasking', 'never', 'new', 'notch', 'old', 'one', 'opened', 'optimized', 'perceptible', 'performance', 'performancewise', 'personal', 'phone', 'physical', 'point', 'poor', 'port', 'possible', 'possibly', 'powerhouse', 'pressing', 'price', 'processor', 'proper', 'properly', 'quality', 'quickly', 'ram', 'rate', 'rating', 'receive', 'refresh', 'refund', 'refused', 'replacement', 'resolution', 'resourceintensive', 'result', 'robust', 'said', 'samoled', 'samsung', 'samsungs', 'say', 'scan', 'screen', 'see', 'segment', 'setting', 'shake', 'shaking', 'simple', 'simply', 'since', 'size', 'slightly', 'smooth', 'snappy', 'software', 'solution', 'speaker', 'speaking', 'spend', 'store', 'stunning', 'switch', 'take', 'task', 'thats', 'think', 'thought', 'time', 'told', 'two', 'upper', 'usage', 'use', 'ushaped', 'using', 'vibrant', 'video', 'visited', 'visuals', 'warm', 'warranty', 'watching', 'way', 'web', 'whether', 'wifi', 'without', 'wont', 'working', 'worst', 'yeah', 'youtube']\n"
     ]
    }
   ],
   "source": [
    "from sklearn.naive_bayes import MultinomialNB\n",
    "from sklearn.feature_extraction.text import CountVectorizer\n",
    "import numpy as np\n",
    "\n",
    "train_data_flattened = [' '.join(review) for review in train_data_lemmatized]\n",
    "bow = CountVectorizer()\n",
    "train_data = bow.fit_transform(train_data_flattened)\n",
    "vocabulary = bow.vocabulary_\n",
    "feature_names = bow.get_feature_names()\n",
    "print(vocabulary)\n",
    "print(feature_names)"
   ]
  },
  {
   "cell_type": "markdown",
   "metadata": {},
   "source": [
    "<font face=\"Bookman old style\"><font size=\"3\"><b>4. Data Visualization: Using Pandas, print the feature vectors matrix using DataFrame.</b>"
   ]
  },
  {
   "cell_type": "code",
   "execution_count": 30,
   "metadata": {},
   "outputs": [
    {
     "name": "stdout",
     "output_type": "stream",
     "text": [
      "   12  120hz  1st  3rd  45  510  56  5g  5ghz  6200  ...  way  web  whether  \\\n",
      "0   0      0    0    0   0    0   0   0     0     0  ...    0    0        0   \n",
      "1   0      0    0    0   0    0   0   0     0     0  ...    0    0        0   \n",
      "2   0      0    0    0   0    0   0   0     0     0  ...    0    0        0   \n",
      "3   0      1    0    0   0    0   0   0     0     0  ...    0    0        0   \n",
      "4   0      0    0    0   0    1   0   0     1     0  ...    0    0        0   \n",
      "5   1      0    0    0   0    0   0   0     0     1  ...    0    0        0   \n",
      "6   0      0    1    1   1    0   1   0     0     0  ...    0    0        0   \n",
      "7   0      0    0    0   0    0   0   0     0     0  ...    1    1        1   \n",
      "8   0      0    0    0   0    0   0   1     0     0  ...    0    0        0   \n",
      "9   0      0    0    0   0    0   0   0     0     0  ...    0    0        0   \n",
      "\n",
      "   wifi  without  wont  working  worst  yeah  youtube  \n",
      "0     0        0     0        0      0     0        0  \n",
      "1     0        0     0        0      0     0        0  \n",
      "2     0        0     0        0      0     1        1  \n",
      "3     0        0     0        0      0     0        0  \n",
      "4     1        0     0        0      1     0        0  \n",
      "5     0        1     1        0      0     0        0  \n",
      "6     0        0     0        1      0     0        0  \n",
      "7     0        0     0        0      0     0        0  \n",
      "8     0        0     0        0      0     0        0  \n",
      "9     0        0     0        1      0     0        0  \n",
      "\n",
      "[10 rows x 219 columns] \n",
      "\n",
      "\n",
      "Shape of train_data: (10, 219)\n"
     ]
    }
   ],
   "source": [
    "import pandas as pd\n",
    "\n",
    "train_data_dense = train_data.toarray()\n",
    "train_df = pd.DataFrame(train_data_dense, columns=bow.get_feature_names())\n",
    "\n",
    "print(train_df,\"\\n\\n\")\n",
    "print(\"Shape of train_data:\", train_data.shape)"
   ]
  },
  {
   "cell_type": "markdown",
   "metadata": {},
   "source": [
    "<font face=\"Bookman old style\"><font size=\"3\"><b>5. Data Modelling: Using Multinomial Naive Bayes, predict the sentiment of the test data “ Best Phone In Market . AMAZING DISPLAY QUALITY. LOUD SPEAKER SUPER . Its performance is\n",
    "ultimate. Awesome battery, fantastic camera!! Premium Samsung experience at an affordable price .”</b>"
   ]
  },
  {
   "cell_type": "code",
   "execution_count": 31,
   "metadata": {},
   "outputs": [
    {
     "name": "stdout",
     "output_type": "stream",
     "text": [
      "['positive']\n"
     ]
    }
   ],
   "source": [
    "classifier = MultinomialNB()\n",
    "\n",
    "classifier.fit(train_data,train_label)\n",
    "\n",
    "test_data = np.array([\"Best Phone In Market . AMAZING DISPLAY QUALITY. LOUD SPEAKER SUPER . Its performance is ultimate. Awesome battery, fantastic camera!! Premium Samsung experience at an affordable price .\"])\n",
    "test_data\n",
    "\n",
    "test_data = bow.transform(test_data)\n",
    "\n",
    "df(test_data.toarray(),columns=bow.get_feature_names())\n",
    "\n",
    "predict_label = classifier.predict(test_data)\n",
    "print(predict_label)"
   ]
  },
  {
   "cell_type": "code",
   "execution_count": null,
   "metadata": {},
   "outputs": [],
   "source": []
  }
 ],
 "metadata": {
  "kernelspec": {
   "display_name": "Python 3",
   "language": "python",
   "name": "python3"
  },
  "language_info": {
   "codemirror_mode": {
    "name": "ipython",
    "version": 3
   },
   "file_extension": ".py",
   "mimetype": "text/x-python",
   "name": "python",
   "nbconvert_exporter": "python",
   "pygments_lexer": "ipython3",
   "version": "3.7.6"
  }
 },
 "nbformat": 4,
 "nbformat_minor": 4
}
