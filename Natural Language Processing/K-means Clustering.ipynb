{
 "cells": [
  {
   "cell_type": "markdown",
   "metadata": {},
   "source": [
    "<font size=\"6\"><font face=\"Bookman Old Style\"><b><center>Question 1</center></b><br>\n",
    "<font size=\"3\">documents = [\"kaziranga national park\", \"kanha tiger reserve\", \"bandipur national park\", \"keoladeo\n",
    "national park\", \"periyar national park\", \"jim corbett national park\", \"gir national park\", \"ranthambore\n",
    "tiger reserve\", \"ranganathittu bird park\", \"ghatprabha bird sanctuary\", \"manas national park\",\n",
    "\"vedanthangal bird sanctuary\"]\n",
    "1. Create a TFIDF document-term matrix for the above documents.\n",
    "2. Print all feature names.\n",
    "3. Create K-Means clusters for K=2.\n",
    "4. Print cluster centroids.\n",
    "5. Print the cluster labels.\n",
    "6. Display the documents and cluster centroids in a dataframe.\n",
    "7. Plot graph for the documents and cluster centroids.\n",
    "8. Predict the cluster for the document “bhadra wildlife sanctuary”."
   ]
  },
  {
   "cell_type": "code",
   "execution_count": 4,
   "metadata": {},
   "outputs": [
    {
     "name": "stdout",
     "output_type": "stream",
     "text": [
      "  (0, 11)\t0.3895932086478295\n",
      "  (0, 10)\t0.4231434312163258\n",
      "  (0, 7)\t0.8180261416323829\n",
      "  (1, 15)\t0.545883839947542\n",
      "  (1, 17)\t0.545883839947542\n",
      "  (1, 6)\t0.6356269869729044\n",
      "  (2, 0)\t0.8180261416323829\n",
      "  (2, 11)\t0.3895932086478295\n",
      "  (2, 10)\t0.4231434312163258\n",
      "  (3, 8)\t0.8180261416323829\n",
      "  (3, 11)\t0.3895932086478295\n",
      "  (3, 10)\t0.4231434312163258\n",
      "  (4, 12)\t0.8180261416323829\n",
      "  (4, 11)\t0.3895932086478295\n",
      "  (4, 10)\t0.4231434312163258\n",
      "  (5, 2)\t0.6331656090898912\n",
      "  (5, 5)\t0.6331656090898912\n",
      "  (5, 11)\t0.3015515136943429\n",
      "  (5, 10)\t0.3275199345388076\n",
      "  (6, 4)\t0.8180261416323829\n",
      "  (6, 11)\t0.3895932086478295\n",
      "  (6, 10)\t0.4231434312163258\n",
      "  (7, 14)\t0.6356269869729044\n",
      "  (7, 15)\t0.545883839947542\n",
      "  (7, 17)\t0.545883839947542\n",
      "  (8, 1)\t0.5650852176871113\n",
      "  (8, 13)\t0.7448691789263333\n",
      "  (8, 11)\t0.35475146657500967\n",
      "  (9, 16)\t0.5646793414504481\n",
      "  (9, 3)\t0.6575124635425807\n",
      "  (9, 1)\t0.49881319311467176\n",
      "  (10, 9)\t0.8180261416323829\n",
      "  (10, 11)\t0.3895932086478295\n",
      "  (10, 10)\t0.4231434312163258\n",
      "  (11, 18)\t0.6575124635425807\n",
      "  (11, 16)\t0.5646793414504481\n",
      "  (11, 1)\t0.49881319311467176\n"
     ]
    }
   ],
   "source": [
    "from sklearn.feature_extraction.text import TfidfVectorizer\n",
    "\n",
    "documents = [\"kaziranga national park\", \"kanha tiger reserve\", \"bandipur national park\", \"keoladeo national park\", \"periyar national park\", \"jim corbett national park\", \"gir national park\", \"ranthambore tiger reserve\", \"ranganathittu bird park\", \"ghatprabha bird sanctuary\", \"manas national park\", \"vedanthangal bird sanctuary\"]\n",
    "\n",
    "tfidf_vectorizer = TfidfVectorizer()\n",
    "tfidf_matrix = tfidf_vectorizer.fit_transform(documents)\n",
    "print(tfidf_matrix)"
   ]
  },
  {
   "cell_type": "code",
   "execution_count": 6,
   "metadata": {},
   "outputs": [
    {
     "name": "stdout",
     "output_type": "stream",
     "text": [
      "['bandipur', 'bird', 'corbett', 'ghatprabha', 'gir', 'jim', 'kanha', 'kaziranga', 'keoladeo', 'manas', 'national', 'park', 'periyar', 'ranganathittu', 'ranthambore', 'reserve', 'sanctuary', 'tiger', 'vedanthangal']\n"
     ]
    }
   ],
   "source": [
    "feature_names = tfidf_vectorizer.get_feature_names()\n",
    "print(feature_names)"
   ]
  },
  {
   "cell_type": "code",
   "execution_count": 7,
   "metadata": {},
   "outputs": [
    {
     "data": {
      "text/plain": [
       "KMeans(algorithm='auto', copy_x=True, init='k-means++', max_iter=300,\n",
       "       n_clusters=2, n_init=10, n_jobs=None, precompute_distances='auto',\n",
       "       random_state=None, tol=0.0001, verbose=0)"
      ]
     },
     "execution_count": 7,
     "metadata": {},
     "output_type": "execute_result"
    }
   ],
   "source": [
    "from sklearn.cluster import KMeans\n",
    "\n",
    "kmeans = KMeans(n_clusters=2)\n",
    "kmeans.fit(tfidf_matrix)"
   ]
  },
  {
   "cell_type": "code",
   "execution_count": 8,
   "metadata": {},
   "outputs": [
    {
     "name": "stdout",
     "output_type": "stream",
     "text": [
      "[[0.         0.31254232 0.         0.13150249 0.         0.\n",
      "  0.1271254  0.         0.         0.         0.         0.07095029\n",
      "  0.         0.14897384 0.1271254  0.21835354 0.22587174 0.21835354\n",
      "  0.13150249]\n",
      " [0.11686088 0.         0.09045223 0.         0.11686088 0.09045223\n",
      "  0.         0.11686088 0.11686088 0.11686088 0.40948293 0.37701582\n",
      "  0.11686088 0.         0.         0.         0.         0.\n",
      "  0.        ]]\n"
     ]
    }
   ],
   "source": [
    "cluster_centroids = kmeans.cluster_centers_\n",
    "print(cluster_centroids)"
   ]
  },
  {
   "cell_type": "code",
   "execution_count": 9,
   "metadata": {},
   "outputs": [
    {
     "name": "stdout",
     "output_type": "stream",
     "text": [
      "[1 0 1 1 1 1 1 0 0 0 1 0]\n"
     ]
    }
   ],
   "source": [
    "cluster_labels = kmeans.labels_\n",
    "print(cluster_labels)"
   ]
  },
  {
   "cell_type": "code",
   "execution_count": 10,
   "metadata": {},
   "outputs": [
    {
     "name": "stdout",
     "output_type": "stream",
     "text": [
      "                       Document  Cluster Label  \\\n",
      "0       kaziranga national park              1   \n",
      "1           kanha tiger reserve              0   \n",
      "2        bandipur national park              1   \n",
      "3        keoladeo national park              1   \n",
      "4         periyar national park              1   \n",
      "5     jim corbett national park              1   \n",
      "6             gir national park              1   \n",
      "7     ranthambore tiger reserve              0   \n",
      "8       ranganathittu bird park              0   \n",
      "9     ghatprabha bird sanctuary              0   \n",
      "10          manas national park              1   \n",
      "11  vedanthangal bird sanctuary              0   \n",
      "\n",
      "                                     Cluster Centroid  \n",
      "0   [0.11686087737605469, 0.0, 0.09045222986998445...  \n",
      "1   [0.0, 0.31254232078329097, 0.0, 0.131502492708...  \n",
      "2   [0.11686087737605469, 0.0, 0.09045222986998445...  \n",
      "3   [0.11686087737605469, 0.0, 0.09045222986998445...  \n",
      "4   [0.11686087737605469, 0.0, 0.09045222986998445...  \n",
      "5   [0.11686087737605469, 0.0, 0.09045222986998445...  \n",
      "6   [0.11686087737605469, 0.0, 0.09045222986998445...  \n",
      "7   [0.0, 0.31254232078329097, 0.0, 0.131502492708...  \n",
      "8   [0.0, 0.31254232078329097, 0.0, 0.131502492708...  \n",
      "9   [0.0, 0.31254232078329097, 0.0, 0.131502492708...  \n",
      "10  [0.11686087737605469, 0.0, 0.09045222986998445...  \n",
      "11  [0.0, 0.31254232078329097, 0.0, 0.131502492708...  \n"
     ]
    }
   ],
   "source": [
    "import pandas as pd\n",
    "\n",
    "data = {'Document': documents, 'Cluster Label': cluster_labels}\n",
    "df = pd.DataFrame(data)\n",
    "df['Cluster Centroid'] = df['Cluster Label'].map({0: cluster_centroids[0], 1: cluster_centroids[1]})\n",
    "print(df)"
   ]
  },
  {
   "cell_type": "code",
   "execution_count": 11,
   "metadata": {},
   "outputs": [
    {
     "name": "stderr",
     "output_type": "stream",
     "text": [
      "\n",
      "Bad key text.latex.preview in file C:\\ProgramData\\Anaconda3\\lib\\site-packages\\matplotlib\\mpl-data\\stylelib\\_classic_test.mplstyle, line 123 ('text.latex.preview : False')\n",
      "You probably need to get an updated matplotlibrc file from\n",
      "https://github.com/matplotlib/matplotlib/blob/v3.5.3/matplotlibrc.template\n",
      "or from the matplotlib source distribution\n",
      "\n",
      "Bad key mathtext.fallback_to_cm in file C:\\ProgramData\\Anaconda3\\lib\\site-packages\\matplotlib\\mpl-data\\stylelib\\_classic_test.mplstyle, line 155 ('mathtext.fallback_to_cm : True  # When True, use symbols from the Computer Modern')\n",
      "You probably need to get an updated matplotlibrc file from\n",
      "https://github.com/matplotlib/matplotlib/blob/v3.5.3/matplotlibrc.template\n",
      "or from the matplotlib source distribution\n",
      "\n",
      "Bad key savefig.jpeg_quality in file C:\\ProgramData\\Anaconda3\\lib\\site-packages\\matplotlib\\mpl-data\\stylelib\\_classic_test.mplstyle, line 418 ('savefig.jpeg_quality: 95       # when a jpeg is saved, the default quality parameter.')\n",
      "You probably need to get an updated matplotlibrc file from\n",
      "https://github.com/matplotlib/matplotlib/blob/v3.5.3/matplotlibrc.template\n",
      "or from the matplotlib source distribution\n",
      "\n",
      "Bad key keymap.all_axes in file C:\\ProgramData\\Anaconda3\\lib\\site-packages\\matplotlib\\mpl-data\\stylelib\\_classic_test.mplstyle, line 466 ('keymap.all_axes : a                 # enable all axes')\n",
      "You probably need to get an updated matplotlibrc file from\n",
      "https://github.com/matplotlib/matplotlib/blob/v3.5.3/matplotlibrc.template\n",
      "or from the matplotlib source distribution\n",
      "\n",
      "Bad key animation.avconv_path in file C:\\ProgramData\\Anaconda3\\lib\\site-packages\\matplotlib\\mpl-data\\stylelib\\_classic_test.mplstyle, line 477 ('animation.avconv_path: avconv     # Path to avconv binary. Without full path')\n",
      "You probably need to get an updated matplotlibrc file from\n",
      "https://github.com/matplotlib/matplotlib/blob/v3.5.3/matplotlibrc.template\n",
      "or from the matplotlib source distribution\n",
      "\n",
      "Bad key animation.avconv_args in file C:\\ProgramData\\Anaconda3\\lib\\site-packages\\matplotlib\\mpl-data\\stylelib\\_classic_test.mplstyle, line 479 ('animation.avconv_args:            # Additional arguments to pass to avconv')\n",
      "You probably need to get an updated matplotlibrc file from\n",
      "https://github.com/matplotlib/matplotlib/blob/v3.5.3/matplotlibrc.template\n",
      "or from the matplotlib source distribution\n"
     ]
    },
    {
     "data": {
      "image/png": "[encoded data removed]",
      "text/plain": [
       "<Figure size 432x288 with 1 Axes>"
      ]
     },
     "metadata": {
      "needs_background": "light"
     },
     "output_type": "display_data"
    }
   ],
   "source": [
    "import matplotlib.pyplot as plt\n",
    "\n",
    "# Assuming 2D data, you can use PCA to reduce dimensions for plotting\n",
    "from sklearn.decomposition import PCA\n",
    "\n",
    "pca = PCA(n_components=2)\n",
    "reduced_features = pca.fit_transform(tfidf_matrix.toarray())\n",
    "reduced_cluster_centroids = pca.transform(cluster_centroids)\n",
    "\n",
    "plt.scatter(reduced_features[:, 0], reduced_features[:, 1], c=cluster_labels)\n",
    "plt.scatter(reduced_cluster_centroids[:, 0], reduced_cluster_centroids[:, 1], marker='x', s=100, c='red')\n",
    "plt.show()"
   ]
  },
  {
   "cell_type": "code",
   "execution_count": 12,
   "metadata": {},
   "outputs": [
    {
     "name": "stdout",
     "output_type": "stream",
     "text": [
      "Predicted Cluster: 0\n"
     ]
    }
   ],
   "source": [
    "new_document = [\"bhadra wildlife sanctuary\"]\n",
    "new_document_tfidf = tfidf_vectorizer.transform(new_document)\n",
    "predicted_cluster = kmeans.predict(new_document_tfidf)\n",
    "print(\"Predicted Cluster:\", predicted_cluster[0])"
   ]
  },
  {
   "cell_type": "code",
   "execution_count": null,
   "metadata": {},
   "outputs": [],
   "source": []
  }
 ],
 "metadata": {
  "kernelspec": {
   "display_name": "Python 3",
   "language": "python",
   "name": "python3"
  },
  "language_info": {
   "codemirror_mode": {
    "name": "ipython",
    "version": 3
   },
   "file_extension": ".py",
   "mimetype": "text/x-python",
   "name": "python",
   "nbconvert_exporter": "python",
   "pygments_lexer": "ipython3",
   "version": "3.7.6"
  }
 },
 "nbformat": 4,
 "nbformat_minor": 4
}
