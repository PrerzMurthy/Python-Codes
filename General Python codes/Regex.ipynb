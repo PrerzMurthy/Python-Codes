{
 "cells": [
  {
   "cell_type": "markdown",
   "metadata": {},
   "source": [
    "<font face=\"Bookman Old Style\">Generate two or more random paragraphs using the given online website. https://randomwordgenerator.com/paragraph.php and perform the following tasks on it.\n",
    "01. Find the total number of paragraphs and total number of lines and words in each paragraph.\n",
    "02. Find all the words that begin with vowel in the first paragraph & those which begin with consonants in the second paragraph.\n",
    "03. Find all the words having numerals.\n",
    "04. Find all the words which begin with letter 'data/Data/DATA'. If no such words exist then add such related words and repeat the search.\n",
    "05. Find all the words which end with letter 'e'.\n",
    "06. Find all the words that begins with an vowel and ends with an vowel OR that begins with a consonant and ends with a consonant.\n",
    "07. Find all the words that have the letters 'to' in them, find the position of 'to' in each word.\n",
    "08. Find all the words that have capital letters in them.\n",
    "09. Find all the words that have special symbols in them.\n",
    "10. Find the first occurrence of full stop in your input.\n",
    "11. Find the words that don’t have any vowel in them. If no such words exist add a few related words and repeat the task.\n",
    "12. Find the first occurrent of a word that does not begin with consonant but ends with 'ing' and has 'ta' in it.<br>\n",
    "NOTE: Before starting the execution the paragraph should be appended with the following sentence:\n",
    "\"This random entertaining paragraph was generated using\n",
    "https://randomwordgenerator.com/paragraph.php for 1940000 [your regno]”."
   ]
  },
  {
   "cell_type": "markdown",
   "metadata": {},
   "source": [
    "<hr style=\"border:3px solid black\"> </hr>"
   ]
  },
  {
   "cell_type": "code",
   "execution_count": 1,
   "metadata": {},
   "outputs": [
    {
     "name": "stdout",
     "output_type": "stream",
     "text": [
      "This is a random data entertaining paragraph. It was generated using https://randomwordgenerator.com/paragraph.php for 1940257. The chair sat in the corner where it had been for over 25 years. The only difference was there was someone actually sitting in it. How long had it been since someone had done that? Ten years or more he imagined. Yet there was no denying the presence in the chair now.\n",
      "The trees, therefore, must be such old and primitive techniques that they thought nothing of them, deeming them so inconsequential that even savages like us would know of them and not be suspicious. At that, they probably didn't have too much time after they detected us orbiting and intending to land. And if that were true, there could be only one place where their civilization was hidden.\n",
      "The amber droplet hung from the branch, reaching fullness and ready to drop. It waited. While many of the other droplets were satisfied to form as big as they could and release, DATA this droplet had other plans. It wanted to be part of history. It wanted to be remembered long after all the other droplets had dissolved into history. So it waited for the perfect specimen to fly by to trap and capture that it hoped would eventually be discovered hundreds of years in the future.\n"
     ]
    }
   ],
   "source": [
    "para = \"This is a random data entertaining paragraph. It was generated using https://randomwordgenerator.com/paragraph.php for 1940257. The chair sat in the corner where it had been for over 25 years. The only difference was there was someone actually sitting in it. How long had it been since someone had done that? Ten years or more he imagined. Yet there was no denying the presence in the chair now.\\nThe trees, therefore, must be such old and primitive techniques that they thought nothing of them, deeming them so inconsequential that even savages like us would know of them and not be suspicious. At that, they probably didn't have too much time after they detected us orbiting and intending to land. And if that were true, there could be only one place where their civilization was hidden.\\nThe amber droplet hung from the branch, reaching fullness and ready to drop. It waited. While many of the other droplets were satisfied to form as big as they could and release, DATA this droplet had other plans. It wanted to be part of history. It wanted to be remembered long after all the other droplets had dissolved into history. So it waited for the perfect specimen to fly by to trap and capture that it hoped would eventually be discovered hundreds of years in the future.\"\n",
    "print(para)"
   ]
  },
  {
   "cell_type": "markdown",
   "metadata": {},
   "source": [
    "<hr style=\"border:2px solid black\"> </hr>"
   ]
  },
  {
   "cell_type": "markdown",
   "metadata": {},
   "source": [
    "<font size=\"5\"><b>1</b>"
   ]
  },
  {
   "cell_type": "code",
   "execution_count": 2,
   "metadata": {},
   "outputs": [
    {
     "name": "stdout",
     "output_type": "stream",
     "text": [
      "Total number of paragraphs:  3\n",
      " \n",
      "Number of words in para 1 is 66\n",
      "Number of words in para 2 is 67\n",
      "Number of words in para 3 is 87\n",
      " \n",
      "Number of lines in para 1 is 8\n",
      "Number of lines in para 2 is 3\n",
      "Number of lines in para 3 is 6\n"
     ]
    }
   ],
   "source": [
    "x = para.split('\\n')\n",
    "print(\"Total number of paragraphs: \",len(x))\n",
    "print(\" \")\n",
    "for i in range(len(x)):\n",
    "    y = x[i].split(' ')\n",
    "    print(\"Number of words in para {}\".format(i+1),\"is\",len(y))\n",
    "print(\" \")\n",
    "for j in range(len(x)):\n",
    "    z = x[j].split('.')\n",
    "    print(\"Number of lines in para {}\".format(j+1),\"is\",len(z)-1)"
   ]
  },
  {
   "cell_type": "markdown",
   "metadata": {},
   "source": [
    "<hr style=\"border:1px solid black\"> </hr>"
   ]
  },
  {
   "cell_type": "markdown",
   "metadata": {},
   "source": [
    "<font size=\"5\"><b>2</b>"
   ]
  },
  {
   "cell_type": "code",
   "execution_count": 3,
   "metadata": {},
   "outputs": [
    {
     "name": "stdout",
     "output_type": "stream",
     "text": [
      "The words starting with vowel in paragrpah one are:\n",
      " ['is', 'entertaining', 'It', 'using', 'in', 'it', 'over', 'only', 'actually', 'in', 'it', 'it', 'or', 'imagined', 'in']\n",
      " \n",
      "The words starting with consonants in paragrpah two are:\n",
      " ['trees', 'therefore', 'must', 'such', 'primitive', 'techniques', 'that', 'they', 'thought', 'nothing', 'them', 'deeming', 'them', 'that', 'savages', 'like', 'would', 'know', 'them', 'not', 'suspicious', 'that', 'they', 'probably', 'didn', 'have', 'too', 'much', 'time', 'they', 'detected', 'land', 'that', 'were', 'true', 'there', 'could', 'place', 'where', 'their', 'civilization', 'was', 'hidden']\n"
     ]
    }
   ],
   "source": [
    "import re\n",
    "x = para.split('\\n')\n",
    "y = x[0]\n",
    "z = x[1]\n",
    "obj=re.findall(r'\\b[aeiouAEIOU]\\w+', y)\n",
    "obj1 = re.findall(r'\\b[^aeiouAEIOU\\s][a-zA-Z]*[aeiouAEIOU]\\w+',z)\n",
    "print(\"The words starting with vowel in paragrpah one are:\\n\",obj)\n",
    "print(\" \")\n",
    "print(\"The words starting with consonants in paragrpah two are:\\n\",obj1)"
   ]
  },
  {
   "cell_type": "markdown",
   "metadata": {},
   "source": [
    "<hr style=\"border:1px solid black\"> </hr>"
   ]
  },
  {
   "cell_type": "markdown",
   "metadata": {},
   "source": [
    "<font size=\"5\"><b>3</b>"
   ]
  },
  {
   "cell_type": "code",
   "execution_count": 4,
   "metadata": {},
   "outputs": [
    {
     "name": "stdout",
     "output_type": "stream",
     "text": [
      "The numbers list is : [1940257, 25]\n"
     ]
    }
   ],
   "source": [
    "temp = re.findall(r'\\d+', para)\n",
    "res = list(map(int, temp))\n",
    "\n",
    "print(\"The numbers list is : \" + str(res))"
   ]
  },
  {
   "cell_type": "markdown",
   "metadata": {},
   "source": [
    "<hr style=\"border:1px solid black\"> </hr>"
   ]
  },
  {
   "cell_type": "markdown",
   "metadata": {},
   "source": [
    "<font size=\"5\"><b>4</b>"
   ]
  },
  {
   "cell_type": "code",
   "execution_count": 5,
   "metadata": {},
   "outputs": [
    {
     "data": {
      "text/plain": [
       "[]"
      ]
     },
     "execution_count": 5,
     "metadata": {},
     "output_type": "execute_result"
    }
   ],
   "source": [
    "obj=re.findall(r'\\b^data|^Data|^DATA.*\\w+', para)\n",
    "obj"
   ]
  },
  {
   "cell_type": "markdown",
   "metadata": {},
   "source": [
    "As there is not word \"data\" in the para we will add it and perform search function"
   ]
  },
  {
   "cell_type": "code",
   "execution_count": 6,
   "metadata": {},
   "outputs": [
    {
     "data": {
      "text/plain": [
       "\"This is a random data entertaining paragraph. It was generated using https://randomwordgenerator.com/paragraph.php for 1940257. The chair sat in the corner where it had been for over 25 years. The only difference was there was someone actually sitting in it. How long had it been since someone had done that? Ten years or more he imagined. Yet there was no denying the presence in the chair now.\\nThe trees, therefore, must be such old and primitive techniques that they thought nothing of them, deeming them so inconsequential that even savages like us would know of them and not be suspicious. At that, they probably didn't have too much time after they detected us orbiting and intending to land. And if that were true, there could be only one place where their civilization was hidden.\\nThe amber droplet hung from the branch, reaching fullness and ready to drop. It waited. While many of the other droplets were satisfied to form as big as they could and release, DATA this droplet had other plans. It wanted to be part of history. It wanted to be remembered long after all the other droplets had dissolved into history. So it waited for the perfect specimen to fly by to trap and capture that it hoped would eventually be discovered hundreds of years in the future.\""
      ]
     },
     "execution_count": 6,
     "metadata": {},
     "output_type": "execute_result"
    }
   ],
   "source": [
    "para"
   ]
  },
  {
   "cell_type": "code",
   "execution_count": 7,
   "metadata": {},
   "outputs": [
    {
     "name": "stdout",
     "output_type": "stream",
     "text": [
      "[['data'], ['DATA']]\n"
     ]
    }
   ],
   "source": [
    "matches=[]\n",
    "for x in para.split(\" \"):\n",
    "    match=re.findall(\"^data|^Data|^DATA.*\",x)\n",
    "    if(match):\n",
    "        matches.append(match)\n",
    "print(matches)"
   ]
  },
  {
   "cell_type": "markdown",
   "metadata": {},
   "source": [
    "<hr style=\"border:1px solid black\"> </hr>"
   ]
  },
  {
   "cell_type": "markdown",
   "metadata": {},
   "source": [
    "<font size=\"5\"><b>5</b>"
   ]
  },
  {
   "cell_type": "code",
   "execution_count": 8,
   "metadata": {},
   "outputs": [
    {
     "name": "stdout",
     "output_type": "stream",
     "text": [
      "The words ending with e are:\n",
      "  ['The', 'the', 'where', 'The', 'difference', 'there', 'someone', 'since', 'someone', 'done', 'more', 'he', 'there', 'the', 'presence', 'the', 'The', 'therefore', 'be', 'primitive', 'like', 'be', 'have', 'time', 'were', 'true', 'there', 'be', 'one', 'place', 'where', 'The', 'the', 'While', 'the', 'were', 'release', 'be', 'be', 'the', 'the', 'capture', 'be', 'the', 'future']\n"
     ]
    }
   ],
   "source": [
    "x = re.findall(r'\\b(\\w+e)\\b',para)\n",
    "print(\"The words ending with e are:\\n \",x)"
   ]
  },
  {
   "cell_type": "markdown",
   "metadata": {},
   "source": [
    "<hr style=\"border:1px solid black\"> </hr>"
   ]
  },
  {
   "cell_type": "markdown",
   "metadata": {},
   "source": [
    "<font size=\"5\"><b>6</b>"
   ]
  },
  {
   "cell_type": "code",
   "execution_count": 9,
   "metadata": {},
   "outputs": [
    {
     "name": "stdout",
     "output_type": "stream",
     "text": [
      "Words starting with vowel are:\n",
      " [['one'], ['into']]\n"
     ]
    }
   ],
   "source": [
    "matches=[]\n",
    "for x in para.split(\" \"):\n",
    "    match=re.findall(\"^[aeiouAEIOU].*[aeiouAEIOU]$\",x)\n",
    "    if(match):\n",
    "        matches.append(match)\n",
    "print(\"Words starting with vowel are:\\n\",matches)"
   ]
  },
  {
   "cell_type": "code",
   "execution_count": 10,
   "metadata": {},
   "outputs": [
    {
     "name": "stdout",
     "output_type": "stream",
     "text": [
      "Words starting with consonants are:\n",
      " [['This'], ['random'], ['paragraph.'], ['was'], ['generated'], ['https://randomwordgenerator.com/paragraph.php'], ['for'], ['1940257.'], ['chair'], ['sat'], ['corner'], ['had'], ['been'], ['for'], ['25'], ['years.'], ['was'], ['was'], ['sitting'], ['How'], ['long'], ['had'], ['been'], ['had'], ['that?'], ['Ten'], ['years'], ['Yet'], ['was'], ['denying'], ['chair'], ['trees,'], ['therefore,'], ['must'], ['such'], ['techniques'], ['that'], ['they'], ['thought'], ['nothing'], ['them,'], ['deeming'], ['them'], ['that'], ['savages'], ['would'], ['know'], ['them'], ['not'], ['suspicious.'], ['that,'], ['they'], ['probably'], [\"didn't\"], ['much'], ['they'], ['detected'], ['land.'], ['that'], ['true,'], ['could'], ['their'], ['civilization'], ['was'], ['droplet'], ['hung'], ['from'], ['branch,'], ['reaching'], ['fullness'], ['ready'], ['drop.'], ['waited.'], ['many'], ['droplets'], ['satisfied'], ['form'], ['big'], ['they'], ['could'], ['release,'], ['this'], ['droplet'], ['had'], ['plans.'], ['wanted'], ['part'], ['history.'], ['wanted'], ['remembered'], ['long'], ['droplets'], ['had'], ['dissolved'], ['history.'], ['waited'], ['for'], ['perfect'], ['specimen'], ['fly'], ['by'], ['trap'], ['that'], ['hoped'], ['would'], ['discovered'], ['hundreds'], ['years'], ['future.']]\n"
     ]
    }
   ],
   "source": [
    "matches=[]\n",
    "for x in para.split(\" \"):\n",
    "    match=re.findall(\"^[^aeiouAEIOU].*[^aeiouAEIOU]$\",x)\n",
    "    if(match):\n",
    "        matches.append(match)\n",
    "print(\"Words starting with consonants are:\\n\",matches)"
   ]
  },
  {
   "cell_type": "markdown",
   "metadata": {},
   "source": [
    "<hr style=\"border:1px solid black\"> </hr>"
   ]
  },
  {
   "cell_type": "markdown",
   "metadata": {},
   "source": [
    "<font size=\"5\"><b>7</b>"
   ]
  },
  {
   "cell_type": "code",
   "execution_count": 11,
   "metadata": {},
   "outputs": [
    {
     "name": "stdout",
     "output_type": "stream",
     "text": [
      "[['https://randomwordgenerator.com/paragraph.php'], ['too'], ['to'], ['to'], ['to'], ['to'], ['history.'], ['to'], ['into'], ['history.'], ['to'], ['to']]\n",
      "[24, 0, 0, 0, 0, 0, 3, 0, 2, 3, 0, 0]\n"
     ]
    }
   ],
   "source": [
    "matches=[]\n",
    "pos=[]\n",
    "for x in para.split(\" \"):\n",
    "    match=re.findall(\".*to.*\",x)\n",
    "    if(match):\n",
    "        po=x.find(\"to\")\n",
    "        matches.append(match)\n",
    "        pos.append(po)\n",
    "print(matches)\n",
    "print(pos)"
   ]
  },
  {
   "cell_type": "markdown",
   "metadata": {},
   "source": [
    "<hr style=\"border:1px solid black\"> </hr>"
   ]
  },
  {
   "cell_type": "markdown",
   "metadata": {},
   "source": [
    "<font size=\"5\"><b>8</b>"
   ]
  },
  {
   "cell_type": "code",
   "execution_count": 12,
   "metadata": {},
   "outputs": [
    {
     "name": "stdout",
     "output_type": "stream",
     "text": [
      "All words starting with capital are:\n",
      " ['This', 'It', 'The', 'The', 'How', 'Ten', 'Yet', 'The', 'At', 'And', 'The', 'It', 'While', 'It', 'It', 'So']\n"
     ]
    }
   ],
   "source": [
    "x = re.findall('([A-Z][a-z]+)', para)\n",
    "print(\"All words starting with capital are:\\n\",x)"
   ]
  },
  {
   "cell_type": "markdown",
   "metadata": {},
   "source": [
    "<hr style=\"border:1px solid black\"> </hr>"
   ]
  },
  {
   "cell_type": "markdown",
   "metadata": {},
   "source": [
    "<font size=\"5\"><b>9</b>"
   ]
  },
  {
   "cell_type": "code",
   "execution_count": 13,
   "metadata": {},
   "outputs": [
    {
     "name": "stdout",
     "output_type": "stream",
     "text": [
      "Words with special symbols: \n",
      " ['paragraph.', 'https://randomwordgenerator.com/paragraph.php', '1940257.', 'years.', 'it.', 'that?', 'imagined.', 'now.', 'trees,', 'therefore,', 'them,', 'suspicious.', 'that,', \"didn't\", 'land.', 'true,', 'hidden.', 'branch,', 'drop.', 'waited.', 'release,', 'plans.', 'history.', 'history.', 'future.']\n"
     ]
    }
   ],
   "source": [
    "x = re.findall('(http://\\S+|\\S*[^\\w\\s]\\S*)',para)\n",
    "print (\"Words with special symbols: \\n\",x)"
   ]
  },
  {
   "cell_type": "markdown",
   "metadata": {},
   "source": [
    "<hr style=\"border:1px solid black\"> </hr>"
   ]
  },
  {
   "cell_type": "markdown",
   "metadata": {},
   "source": [
    "<font size=\"5\"><b>10</b>"
   ]
  },
  {
   "cell_type": "code",
   "execution_count": 14,
   "metadata": {},
   "outputs": [
    {
     "name": "stdout",
     "output_type": "stream",
     "text": [
      "[['.']]\n"
     ]
    }
   ],
   "source": [
    "matches=[]\n",
    "for x in para:\n",
    "    match=re.findall(\".*\\.$\",x)\n",
    "    if(match):\n",
    "        matches.append(match)\n",
    "        break\n",
    "print(matches)"
   ]
  },
  {
   "cell_type": "markdown",
   "metadata": {},
   "source": [
    "<hr style=\"border:1px solid black\"> </hr>"
   ]
  },
  {
   "cell_type": "markdown",
   "metadata": {},
   "source": [
    "<font size=\"5\"><b>11</b>"
   ]
  },
  {
   "cell_type": "code",
   "execution_count": 15,
   "metadata": {},
   "outputs": [
    {
     "name": "stdout",
     "output_type": "stream",
     "text": [
      "[['1940257.'], ['25'], ['fly'], ['by']]\n"
     ]
    }
   ],
   "source": [
    "matches=[]\n",
    "for x in para.split(\" \"):\n",
    "    match=re.findall(\"^[^aeiouAEIOU]*$\",x)\n",
    "    if(match):\n",
    "        matches.append(match)\n",
    "print(matches)"
   ]
  },
  {
   "cell_type": "markdown",
   "metadata": {},
   "source": [
    "<hr style=\"border:1px solid black\"> </hr>"
   ]
  },
  {
   "cell_type": "markdown",
   "metadata": {},
   "source": [
    "<font size=\"5\"><b>12</b>"
   ]
  },
  {
   "cell_type": "code",
   "execution_count": 16,
   "metadata": {},
   "outputs": [
    {
     "name": "stdout",
     "output_type": "stream",
     "text": [
      "[['entertaining']]\n"
     ]
    }
   ],
   "source": [
    "matches=[]\n",
    "for x in para.split(\" \"):\n",
    "    match=re.findall(\"^[aeiouAEIOU].*ta.*ing$\",x)\n",
    "    if(match):\n",
    "        matches.append(match)\n",
    "print(matches)"
   ]
  },
  {
   "cell_type": "markdown",
   "metadata": {},
   "source": [
    "<hr style=\"border:2px solid black\"> </hr>"
   ]
  },
  {
   "cell_type": "markdown",
   "metadata": {},
   "source": [
    "<font size=\"5\"><b>conclusion</b>"
   ]
  },
  {
   "cell_type": "markdown",
   "metadata": {},
   "source": [
    "This assignment we used Regex function with helped making the code shorter and execution became easier"
   ]
  }
 ],
 "metadata": {
  "kernelspec": {
   "display_name": "Python 3",
   "language": "python",
   "name": "python3"
  },
  "language_info": {
   "codemirror_mode": {
    "name": "ipython",
    "version": 3
   },
   "file_extension": ".py",
   "mimetype": "text/x-python",
   "name": "python",
   "nbconvert_exporter": "python",
   "pygments_lexer": "ipython3",
   "version": "3.7.6"
  }
 },
 "nbformat": 4,
 "nbformat_minor": 4
}
