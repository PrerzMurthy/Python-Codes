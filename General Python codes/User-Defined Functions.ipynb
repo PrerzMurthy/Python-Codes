{
 "cells": [
  {
   "cell_type": "markdown",
   "metadata": {},
   "source": [
    "<font face=\"Bookman Old Style\"><font size=\"4\"><b>1. University is setting up a new lab at their premises. Write Python function to determine\n",
    "the approximate cost to be spent for setting up the lab. Cost for setting the lab is sum\n",
    "of cost of computers, cost of chairs and cost of table's. Use the following formulae for\n",
    "    solving the problem:</b><br>\n",
    "    <font size=\"3\"><font color=\"lavendar\"><center><b>Total Cost= Cost of Computer's + Cost of Chair's + Cost of Table's</b></center>\n",
    "<font size=\"4\"><font color=\"black\"><b>If we require 50 systems, 50 chairs and 50 tables and cost of each system is 50000,\n",
    "chair is 200 and table is 300, what is the total cost to setup the lab?<br>\n",
    "    Note: Create a user-defined function and RETURN THE OUTPUT.</b>"
   ]
  },
  {
   "cell_type": "code",
   "execution_count": 15,
   "metadata": {},
   "outputs": [
    {
     "name": "stdout",
     "output_type": "stream",
     "text": [
      "Enter the cost of one computer: 50000\n",
      "Enter the number of computers: 50\n",
      "Enter the cost of one chair: 200\n",
      "Enter the number of chairs: 50\n",
      "Enter the cost of one table: 300\n",
      "Enter the number of tables: 50\n",
      "Total cost = Rs. 2525000.0\n"
     ]
    }
   ],
   "source": [
    "def total_cost(cost_comp, number_comp, cost_chair, number_chair, cost_table, number_table):\n",
    "    return (cost_comp * number_comp + cost_chair * number_chair + cost_table * number_table)\n",
    "\n",
    "cost_comp = int(input(\"Enter the cost of one computer: \"))\n",
    "number_comp = int(input(\"Enter the number of computers: \"))\n",
    "\n",
    "cost_chair = float(input(\"Enter the cost of one chair: \"))\n",
    "number_chair = int(input(\"Enter the number of chairs: \"))\n",
    "\n",
    "cost_table = float(input(\"Enter the cost of one table: \"))\n",
    "number_table = int(input(\"Enter the number of tables: \"))\n",
    "\n",
    "print(\"Total cost = Rs.\",total_cost(cost_comp, number_comp, cost_chair, number_chair, cost_table, number_table))"
   ]
  },
  {
   "cell_type": "markdown",
   "metadata": {},
   "source": [
    "<font face=\"Bookman Old Style\"><font size=\"4\"><b>2. Write a program using function that separates the year, PC model and processor\n",
    "generation from tuple and store it in a dictionary.\n",
    "Expected I/P and O/P:<br>\n",
    "<font size=\"3\"><font color=\"lavendar\"><center>I/P: (I7,2019,Mac,Mac Pro,I5,2015, I3, I5, I7, Lenovo Yoga, HP Envy, Dell XP,\n",
    "2021,2020)<br>\n",
    "O/P: {“Year”:[2015, 2019,2020,2021], “Processor”:[I3, I5, I7], “Model”:[ “Mac”,”Mac Pro”,\n",
    "    “Lenovo Yoga”, “HP Envy”, “Dell XP”]}</center></b>"
   ]
  },
  {
   "cell_type": "code",
   "execution_count": 14,
   "metadata": {},
   "outputs": [
    {
     "name": "stdout",
     "output_type": "stream",
     "text": [
      "Enter the number of components: 10\n",
      "Enter the component: I5\n",
      "Enter the component: Mac book pro\n",
      "Enter the component: 2021\n",
      "Enter the component: I7\n",
      "Enter the component: I5\n",
      "Enter the component: Dell\n",
      "Enter the component: 2019\n",
      "Enter the component: 2018\n",
      "Enter the component: Lenovo\n",
      "Enter the component: I3\n",
      "\n",
      " Entered tuple is:\n",
      "\n",
      "('I5', 'Mac book pro', '2021', 'I7', 'I5', 'Dell', '2019', '2018', 'Lenovo', 'I3')\n",
      "\n",
      " The required output is: \n",
      "\n",
      "{'Year': ['2021', '2019', '2018'], 'Processor': ['I5', 'I7', 'I5', 'I3'], 'Model': ['Mac book pro', 'Dell', 'Lenovo']}\n"
     ]
    }
   ],
   "source": [
    "import re \n",
    "\n",
    "def strip_components(items):\n",
    "    items_dict = {}\n",
    "    years = []\n",
    "    processors = []\n",
    "    models = []\n",
    "    \n",
    "    for item in items:\n",
    "        if str(item).isnumeric():\n",
    "            years.append(item)\n",
    "        elif bool(re.search(\"^I\\d$\", item) or re.search(\"^i\\d$\", item)):\n",
    "            processors.append(item)\n",
    "        else:\n",
    "            models.append(item)\n",
    "    \n",
    "    items_dict[\"Year\"] = years\n",
    "    items_dict[\"Processor\"] = processors\n",
    "    items_dict[\"Model\"] = models\n",
    "    \n",
    "    return items_dict \n",
    "\n",
    "def convert(items):\n",
    "    return(*items,)\n",
    "\n",
    "items = []\n",
    "n = int(input(\"Enter the number of components: \"))\n",
    "i = 0\n",
    "for i in range(n):\n",
    "    items.append(input(\"Enter the component: \"))\n",
    "\n",
    "print(\"\\n Entered tuple is:\\n\")\n",
    "print(convert(items))\n",
    "        \n",
    "print(\"\\n The required output is: \\n\")\n",
    "print(strip_components(items))"
   ]
  },
  {
   "cell_type": "code",
   "execution_count": null,
   "metadata": {},
   "outputs": [],
   "source": []
  }
 ],
 "metadata": {
  "kernelspec": {
   "display_name": "Python 3",
   "language": "python",
   "name": "python3"
  },
  "language_info": {
   "codemirror_mode": {
    "name": "ipython",
    "version": 3
   },
   "file_extension": ".py",
   "mimetype": "text/x-python",
   "name": "python",
   "nbconvert_exporter": "python",
   "pygments_lexer": "ipython3",
   "version": "3.7.6"
  }
 },
 "nbformat": 4,
 "nbformat_minor": 4
}
