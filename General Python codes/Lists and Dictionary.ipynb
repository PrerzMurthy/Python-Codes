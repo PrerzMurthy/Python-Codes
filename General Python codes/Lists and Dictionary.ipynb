{
 "cells": [
  {
   "cell_type": "markdown",
   "metadata": {},
   "source": [
    "<font face=\"Bookman Old Style\"><font size=\"4\"><b>1. Write a python program to store the blood pressure test values of 10 patients in a dictionary (Systolic, Diastolic). From the observation results, propose the stage of blood pressure they are in.<br><font size=\"3\"><font color=\"lavendar\"><center>I/P Ex: {'xyz':[120,84], 'abc':[140,94]}<br>\n",
    "    O/P Ex: {'xyz': ‘Elevated’, 'abc':’High Blood Pressure – Stage2’}</center></b>"
   ]
  },
  {
   "cell_type": "code",
   "execution_count": 1,
   "metadata": {},
   "outputs": [
    {
     "name": "stdout",
     "output_type": "stream",
     "text": [
      "Enter number of patients: 5\n",
      "Enter name of person 1:pranav\n",
      "Enter Systolic:75\n",
      "Enter Dialostic:120\n",
      "Enter name of person 2:dhruvi\n",
      "Enter Systolic:125\n",
      "Enter Dialostic:82\n",
      "Enter name of person 3:ranjna\n",
      "Enter Systolic:200\n",
      "Enter Dialostic:125\n",
      "Enter name of person 4:prerana\n",
      "Enter Systolic:121\n",
      "Enter Dialostic:73\n",
      "Enter name of person 5:suraj\n",
      "Enter Systolic:70\n",
      "Enter Dialostic:45\n",
      "----------------------------------------------------------\n",
      "{'pranav': [75, 120], 'dhruvi': [125, 82], 'ranjna': [200, 125], 'prerana': [121, 73], 'suraj': [70, 45]}\n",
      "{'pranav': 'High Blood Pressure-Stage2', 'dhruvi': 'High Blood Pressure-Stage1', 'ranjna': 'Hypertensive Crisis', 'prerana': 'Elevated', 'suraj': 'Normal'}\n"
     ]
    }
   ],
   "source": [
    "IP={}\n",
    "OP={}\n",
    "n = int(input(\"Enter number of patients: \"))\n",
    "for i in range(0,n):\n",
    "    name=input(\"Enter name of person {}:\".format(i+1))\n",
    "    s=int(input(\"Enter Systolic:\"))\n",
    "    d=int(input(\"Enter Dialostic:\"))\n",
    "    IP[name]=[s,d]\n",
    "    if s>180 or d>120:\n",
    "        OP[name]='Hypertensive Crisis'\n",
    "    elif s>=140 or d>=90:\n",
    "        OP[name]='High Blood Pressure-Stage2'\n",
    "    elif s>=130 and s<=139 or d>=80 and d<=89:\n",
    "        OP[name]='High Blood Pressure-Stage1'        \n",
    "    elif s>=120 and s<=129 and d<80:\n",
    "        OP[name]='Elevated'\n",
    "    elif s<120 and d<80:\n",
    "        OP[name]='Normal'\n",
    "print('----------------------------------------------------------')\n",
    "print(IP)\n",
    "print(OP)"
   ]
  },
  {
   "cell_type": "markdown",
   "metadata": {},
   "source": [
    "<font face=\"Bookman Old Style\"><font size=\"4\"><b>Take two lists, say for example these two:\n",
    "\n",
    "a = [1, 1, 2, 3, 5, 8, 13, 21, 34, 55, 89]<br>\n",
    "b = [1, 2, 3, 4, 5, 6, 7, 8, 9, 10, 11, 12, 13]<br>\n",
    "and write a python program (Separate functions for each operation) that returns a list that contains only,\n",
    "\n",
    "<br><font size=\"3\"><font color=\"lavendar\">• Elements two sets have in common. (Intersection)<br>\n",
    "• All the elements from both sets. (Union)<br>\n",
    "• Elements present on one set, but not on the other. (Difference)<br>\n",
    "    • Elements from both sets, that are not present on the other. (Symmetric difference)</b>"
   ]
  },
  {
   "cell_type": "code",
   "execution_count": 2,
   "metadata": {},
   "outputs": [
    {
     "name": "stdout",
     "output_type": "stream",
     "text": [
      "Enter number of elements : 5\n",
      "3\n",
      "4\n",
      "5\n",
      "7\n",
      "2\n",
      "List 1 is: [3, 4, 5, 7, 2]\n",
      "---------------------------------------------------\n",
      "Enter number of elements : 8\n",
      "2\n",
      "9\n",
      "6\n",
      "5\n",
      "1\n",
      "7\n",
      "4\n",
      "9\n",
      "List 2 is: [2, 9, 6, 5, 1, 7, 4, 9]\n",
      "--------------------------------------------------\n",
      "Intersection of the two lists is:  [2, 4, 5, 7]\n",
      "Union of the two lists is:  [1, 2, 3, 4, 5, 6, 7, 9]\n",
      "Difference of the two lists is:  [3, 1, 6, 9]\n",
      "Symmetric Difference of the two lists is:  [1, 3, 6, 9]\n"
     ]
    }
   ],
   "source": [
    "lst1 = []\n",
    "lst2 = []\n",
    "\n",
    "n = int(input(\"Enter number of elements : \"))\n",
    "for i in range(0, n):\n",
    "    ele = int(input())\n",
    "    lst1.append(ele)      \n",
    "print(\"List 1 is:\",lst1)\n",
    "print(\"---------------------------------------------------\")\n",
    "\n",
    "num = int(input(\"Enter number of elements : \"))\n",
    "for i in range(0, num):\n",
    "    ele = int(input())\n",
    "    lst2.append(ele)      \n",
    "print(\"List 2 is:\",lst2)\n",
    "print(\"--------------------------------------------------\")\n",
    "\n",
    "a = list(set(lst1) & set(lst2))\n",
    "print(\"Intersection of the two lists is: \",a)\n",
    "\n",
    "b = list(set(lst1) | set(lst2))\n",
    "print(\"Union of the two lists is: \",b)\n",
    "\n",
    "c = list(set(lst1) - set(lst2)) + list(set(lst2) - set(lst1))\n",
    "print(\"Difference of the two lists is: \",c)\n",
    "\n",
    "d = set(lst1).symmetric_difference(set(lst2))\n",
    "e = list(d)\n",
    "print(\"Symmetric Difference of the two lists is: \",e)"
   ]
  },
  {
   "cell_type": "code",
   "execution_count": null,
   "metadata": {},
   "outputs": [],
   "source": []
  }
 ],
 "metadata": {
  "kernelspec": {
   "display_name": "Python 3",
   "language": "python",
   "name": "python3"
  },
  "language_info": {
   "codemirror_mode": {
    "name": "ipython",
    "version": 3
   },
   "file_extension": ".py",
   "mimetype": "text/x-python",
   "name": "python",
   "nbconvert_exporter": "python",
   "pygments_lexer": "ipython3",
   "version": "3.7.6"
  }
 },
 "nbformat": 4,
 "nbformat_minor": 4
}
