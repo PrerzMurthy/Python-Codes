{
 "cells": [
  {
   "cell_type": "markdown",
   "metadata": {},
   "source": [
    "<font face=\"Bookman Old Style\"><b><font size=\"4\">1. Write a program that asks the user for these three information (Year, Program, Enum) and\n",
    "    generate their Register No.<br><font size=\"3\"><font color=\"lavendar\"><center>Ex:  Year = 2018<br></center><center>Program = BSC<br></center><center>Enum = 3265<br></center><center>Output = 18BSC3265</center></b>"
   ]
  },
  {
   "cell_type": "code",
   "execution_count": 1,
   "metadata": {},
   "outputs": [
    {
     "name": "stdout",
     "output_type": "stream",
     "text": [
      "Enter the year of joining college(full year): 2018\n",
      "Enter the program you are pursuing: BSc\n",
      "Enter your 10 digit enrollment number: 6754893265\n",
      "------------------------------------------------------------------------------------\n",
      "Year =  2018\n",
      "Program =  BSc\n",
      "Enum =  6754893265\n",
      "------------------------------------------------------------------------------------\n",
      "Your register number is: 18BSc3265\n"
     ]
    }
   ],
   "source": [
    "year = input(\"Enter the year of joining college(full year): \")\n",
    "program = input(\"Enter the program you are pursuing: \")\n",
    "enum = input(\"Enter your 10 digit enrollment number: \")\n",
    "print(\"------------------------------------------------------------------------------------\")\n",
    "print(\"Year = \",year)\n",
    "print(\"Program = \",program)\n",
    "print(\"Enum = \",enum)\n",
    "print(\"------------------------------------------------------------------------------------\")\n",
    "\n",
    "reg_no = ''\n",
    "a = year[-2:]\n",
    "b = enum[-4:]\n",
    "reg_no = a+program+b\n",
    "\n",
    "print(\"Your register number is:\",reg_no) "
   ]
  },
  {
   "cell_type": "markdown",
   "metadata": {},
   "source": [
    "<font face=\"Bookman Old Style\"><font size=\"4\"><b>2. Write a Python program to store Pan number of each employee and check whether the pan is\n",
    "    valid or not?<br><center><font size=\"3\"><font color=\"lavendar\">FORMAT: AEQPR5706S</center></b>"
   ]
  },
  {
   "cell_type": "code",
   "execution_count": 2,
   "metadata": {},
   "outputs": [
    {
     "name": "stdout",
     "output_type": "stream",
     "text": [
      "Enter your PAN number: AEQPR5706S\n",
      "Your PAN number is valid\n"
     ]
    }
   ],
   "source": [
    "n = input(\"Enter your PAN number: \")\n",
    "if len(n) == 10:\n",
    "    if n[0:5].isalpha():\n",
    "        if n[0:5].isupper():\n",
    "            if n[5:9].isdigit():\n",
    "                if n[9].isalpha():\n",
    "                    if n[9].isupper():\n",
    "                        print(\"Your PAN number is valid\")\n",
    "                    else:\n",
    "                        print(\"Last value must be in uppercase: \",n[9])\n",
    "                else:\n",
    "                    print(\"Last value should be an alphabet: \",n[9])\n",
    "            else:\n",
    "                print(\"Must be numbers only:\",n[5:9])\n",
    "        else:\n",
    "            print(\"First five values must be in uppercase: \",n[0:5])\n",
    "    else:\n",
    "        print(\"First five values should be alphabets: \",n[0:5])\n",
    "else:\n",
    "    if len(n)<10 or len(n)>10:\n",
    "        print(\"Wrong input!!\")"
   ]
  },
  {
   "cell_type": "markdown",
   "metadata": {},
   "source": [
    "<font face=\"Bookman Old Style\"><font size=\"4\"><b>3. Create a list and store the details of the employees (ID no, name, mobile number).<br> \n",
    "<font size=\"3\">a) Name of a person is in the form first name space last name (Ex: Gautam Menon).<br> \n",
    "b) Check the validity of the name entered and validity of the mobile number. A valid mobile number must consist of 10 digits and the first digit must not be zero. Print 'Invalid input ‘when conditions are not satisfied and break the process of getting input.<br>\n",
    "    c) Display the results (stored values) in a list.</b>"
   ]
  },
  {
   "cell_type": "code",
   "execution_count": 3,
   "metadata": {},
   "outputs": [
    {
     "name": "stdout",
     "output_type": "stream",
     "text": [
      "Number of employees: 5\n",
      "------------------------------------------------------------------------------------\n",
      "Enter first name of employee 1: Prerana\n",
      "Enter last name of employee 1:Murthy\n",
      "Enter ID number of employee 1:pm7802\n",
      "Enter mobile number of employee 1:6789054321\n",
      "Valid mobile number\n",
      "------------------------------------------------------------------------------------\n",
      "Enter first name of employee 2: Suraj\n",
      "Enter last name of employee 2:Eashwer\n",
      "Enter ID number of employee 2:se4503\n",
      "Enter mobile number of employee 2:6709543271\n",
      "Valid mobile number\n",
      "------------------------------------------------------------------------------------\n",
      "Enter first name of employee 3: Prajit\n",
      "Enter last name of employee 3:Tokdar\n",
      "Enter ID number of employee 3:pt6381\n",
      "Enter mobile number of employee 3:8902435672\n",
      "Valid mobile number\n",
      "------------------------------------------------------------------------------------\n",
      "Enter first name of employee 4: Shreya\n",
      "Enter last name of employee 4:Sridhar\n",
      "Enter ID number of employee 4:ss4502\n",
      "Enter mobile number of employee 4:7801936465\n",
      "Valid mobile number\n",
      "------------------------------------------------------------------------------------\n",
      "Enter first name of employee 5: Akshay\n",
      "Enter last name of employee 5:Reddy\n",
      "Enter ID number of employee 5:ar5019\n",
      "Enter mobile number of employee 5:7801936452\n",
      "Valid mobile number\n",
      "------------------------------------------------------------------------------------\n",
      "Names of the employees are:  ['Prerana Murthy', 'Suraj Eashwer', 'Prajit Tokdar', 'Shreya Sridhar', 'Akshay Reddy']\n",
      "Mobile numbers of the employees are:  ['6789054321', '6709543271', '8902435672', '7801936465', '7801936452']\n",
      "Id no of the employees are:  ['pm7802', 'se4503', 'pt6381', 'ss4502', 'ar5019']\n"
     ]
    }
   ],
   "source": [
    "n = int(input(\"Number of employees: \"))\n",
    "id_no = []\n",
    "name = []\n",
    "mob_number = []\n",
    "print(\"------------------------------------------------------------------------------------\")\n",
    "for x in range(0,n):\n",
    "    a = input(\"Enter first name of employee {}: \".format(x+1))\n",
    "    b = input(\"Enter last name of employee {}:\".format(x+1))\n",
    "    c = a+' '+b\n",
    "    d = input(\"Enter ID number of employee {}:\".format(x+1))\n",
    "    e = input(\"Enter mobile number of employee {}:\".format(x+1))\n",
    "    if len(e) == 10 and e[0] != \"0\":\n",
    "        print(\"Valid mobile number\")\n",
    "        mob_number.append(e)\n",
    "    else:\n",
    "        print(\"InValid mobile number\")\n",
    "        break\n",
    "    name.append(c)\n",
    "    id_no.append(d)\n",
    "    print(\"------------------------------------------------------------------------------------\")\n",
    "print(\"Names of the employees are: \",name)\n",
    "print(\"Mobile numbers of the employees are: \",mob_number)\n",
    "print(\"Id no of the employees are: \",id_no)"
   ]
  }
 ],
 "metadata": {
  "kernelspec": {
   "display_name": "Python 3",
   "language": "python",
   "name": "python3"
  },
  "language_info": {
   "codemirror_mode": {
    "name": "ipython",
    "version": 3
   },
   "file_extension": ".py",
   "mimetype": "text/x-python",
   "name": "python",
   "nbconvert_exporter": "python",
   "pygments_lexer": "ipython3",
   "version": "3.7.6"
  }
 },
 "nbformat": 4,
 "nbformat_minor": 4
}
