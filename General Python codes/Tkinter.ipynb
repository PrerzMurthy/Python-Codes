{
 "cells": [
  {
   "cell_type": "code",
   "execution_count": 1,
   "metadata": {},
   "outputs": [],
   "source": [
    "import tkinter\n",
    "from tkinter import *\n",
    "from tkinter import ttk\n",
    "from tkinter.ttk import *\n",
    "import tkinter as tk\n",
    "import tkinter.messagebox"
   ]
  },
  {
   "cell_type": "markdown",
   "metadata": {},
   "source": [
    "## QUESTION 1 "
   ]
  },
  {
   "cell_type": "code",
   "execution_count": 2,
   "metadata": {},
   "outputs": [
    {
     "data": {
      "text/plain": [
       "<tkinter.Tk object .>"
      ]
     },
     "execution_count": 2,
     "metadata": {},
     "output_type": "execute_result"
    }
   ],
   "source": [
    "Tk()"
   ]
  },
  {
   "cell_type": "code",
   "execution_count": 3,
   "metadata": {},
   "outputs": [],
   "source": [
    "win = Tk()\n",
    "win.title('Tk demo')\n",
    "win.geometry('1000x500')\n",
    "win.configure(bg = 'yellow')\n",
    "win.mainloop()"
   ]
  },
  {
   "cell_type": "code",
   "execution_count": 4,
   "metadata": {},
   "outputs": [],
   "source": [
    "win = Tk()\n",
    "style = ttk.Style()\n",
    "style.configure(\"BW.TLabel\", foreground=\"black\", background=\"white\")\n",
    "l1 = ttk.Label(text=\"Test\", style=\"BW.TLabel\")\n",
    "l1.pack()\n",
    "win.mainloop()"
   ]
  },
  {
   "cell_type": "code",
   "execution_count": 5,
   "metadata": {},
   "outputs": [],
   "source": [
    "win = Tk()\n",
    "win.geometry(\"700x350\")\n",
    "Label(win, text=\"Mainloop example\", font= ('Times New Roman', 18,'bold')).pack(pady= 40)\n",
    "win.mainloop()"
   ]
  },
  {
   "cell_type": "markdown",
   "metadata": {},
   "source": [
    "## QUESTION 3 "
   ]
  },
  {
   "cell_type": "code",
   "execution_count": 6,
   "metadata": {},
   "outputs": [],
   "source": [
    "def PressAnyKey(label):\n",
    "    value = label.char\n",
    "    print(value, ' was pressed')\n",
    "\n",
    "base = Tk()\n",
    "base.geometry('330x100')\n",
    "base.bind('<Key>', lambda i : PressAnyKey(i))\n",
    "\n",
    "lb2 = Label(base, text=\"Press any key on your keyboard \",font=(\"Arial Bold\",15))\n",
    "lb2.configure(foreground=\"white\",background=\"black\")\n",
    "lb2.place(width=310, x=10, y=30)\n",
    "mainloop()"
   ]
  },
  {
   "cell_type": "markdown",
   "metadata": {},
   "source": [
    "## QUESTION 4 "
   ]
  },
  {
   "cell_type": "code",
   "execution_count": 7,
   "metadata": {},
   "outputs": [],
   "source": [
    "master = Tk()\n",
    "\n",
    "w = Spinbox(master, from_=0, to=10)\n",
    "w.pack()\n",
    "\n",
    "mainloop()"
   ]
  },
  {
   "cell_type": "code",
   "execution_count": 8,
   "metadata": {},
   "outputs": [],
   "source": [
    "top = Tk()\n",
    "\n",
    "Lb1 = Listbox(top)\n",
    "Lb1.insert(1, \"Math\")\n",
    "Lb1.insert(2, \"Socials\")\n",
    "Lb1.insert(3, \"Biology\")\n",
    "Lb1.insert(4, \"Chemistry\")\n",
    "Lb1.insert(5, \"Physics\")\n",
    "Lb1.insert(6, \"English\")\n",
    "\n",
    "Lb1.pack()\n",
    "top.mainloop()"
   ]
  },
  {
   "cell_type": "code",
   "execution_count": 9,
   "metadata": {},
   "outputs": [],
   "source": [
    "top = Tk()\n",
    "\n",
    "C = Canvas(top, bg=\"blue\", height=250, width=300)\n",
    "\n",
    "coord = 10, 50, 240, 210\n",
    "arc = C.create_arc(coord, start=0, extent=150, fill=\"deeppink\")\n",
    "\n",
    "C.pack()\n",
    "top.mainloop()"
   ]
  },
  {
   "cell_type": "code",
   "execution_count": 10,
   "metadata": {},
   "outputs": [],
   "source": [
    "root = Tk()\n",
    "root.geometry('300x300')\n",
    "frame = Frame(root)\n",
    "frame.pack()\n",
    "\n",
    "bottomframe = Frame(root)\n",
    "bottomframe.pack( side = BOTTOM )\n",
    "\n",
    "redbutton = tk.Button(frame, text=\"Red\", fg=\"red\")\n",
    "redbutton.pack( side = RIGHT)\n",
    "\n",
    "greenbutton = tk.Button(frame, text=\"Brown\", fg=\"brown\")\n",
    "greenbutton.pack( side = BOTTOM )\n",
    "\n",
    "bluebutton = tk.Button(frame, text=\"Blue\", fg=\"blue\")\n",
    "bluebutton.pack( side = TOP )\n",
    "\n",
    "blackbutton = tk.Button(bottomframe, text=\"Black\", fg=\"black\")\n",
    "blackbutton.pack( side = BOTTOM)\n",
    "\n",
    "root.mainloop()"
   ]
  },
  {
   "cell_type": "code",
   "execution_count": null,
   "metadata": {},
   "outputs": [],
   "source": []
  }
 ],
 "metadata": {
  "kernelspec": {
   "display_name": "Python 3",
   "language": "python",
   "name": "python3"
  },
  "language_info": {
   "codemirror_mode": {
    "name": "ipython",
    "version": 3
   },
   "file_extension": ".py",
   "mimetype": "text/x-python",
   "name": "python",
   "nbconvert_exporter": "python",
   "pygments_lexer": "ipython3",
   "version": "3.7.6"
  }
 },
 "nbformat": 4,
 "nbformat_minor": 4
}
